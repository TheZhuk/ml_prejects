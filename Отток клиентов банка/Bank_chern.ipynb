{
 "cells": [
  {
   "cell_type": "markdown",
   "metadata": {},
   "source": [
    "# Отток клиентов"
   ]
  },
  {
   "cell_type": "markdown",
   "metadata": {},
   "source": [
    "Из «Бета-Банка» стали уходить клиенты. Каждый месяц. Немного, но заметно. Банковские маркетологи посчитали: сохранять текущих клиентов дешевле, чем привлекать новых.\n",
    "\n",
    "Нужно спрогнозировать, уйдёт клиент из банка в ближайшее время или нет. Вам предоставлены исторические данные о поведении клиентов и расторжении договоров с банком. \n",
    "\n",
    "Постройте модель с предельно большим значением *F1*-меры. Чтобы сдать проект успешно, нужно довести метрику до 0.59. Проверьте *F1*-меру на тестовой выборке самостоятельно.\n",
    "\n",
    "Дополнительно измеряйте *AUC-ROC*, сравнивайте её значение с *F1*-мерой.\n",
    "\n",
    "Источник данных: [https://www.kaggle.com/barelydedicated/bank-customer-churn-modeling](https://www.kaggle.com/barelydedicated/bank-customer-churn-modeling)"
   ]
  },
  {
   "cell_type": "markdown",
   "metadata": {},
   "source": [
    "# 1. Подготовка данных"
   ]
  },
  {
   "cell_type": "code",
   "execution_count": 2,
   "metadata": {},
   "outputs": [],
   "source": [
    "import warnings\n",
    "warnings.simplefilter('ignore')\n",
    "\n",
    "import pandas as pd\n",
    "import numpy as np\n",
    "\n",
    "from sklearn.model_selection import train_test_split, cross_val_score, cross_val_predict, RandomizedSearchCV\n",
    "from sklearn.preprocessing import OrdinalEncoder, OneHotEncoder, StandardScaler\n",
    "from sklearn.metrics import confusion_matrix, f1_score, roc_auc_score, \\\n",
    "                            roc_curve, precision_recall_curve, precision_score, recall_score\n",
    "from sklearn.utils import shuffle\n",
    "\n",
    "from sklearn.dummy import DummyClassifier\n",
    "from sklearn.tree import DecisionTreeClassifier\n",
    "from sklearn.linear_model import LogisticRegression\n",
    "from sklearn.svm import LinearSVC\n",
    "from sklearn.ensemble import RandomForestClassifier, GradientBoostingClassifier\n",
    "\n",
    "import seaborn as sns\n",
    "import matplotlib.pyplot as plt\n",
    "%matplotlib inline"
   ]
  },
  {
   "cell_type": "code",
   "execution_count": 3,
   "metadata": {},
   "outputs": [
    {
     "data": {
      "text/html": [
       "<div>\n",
       "<style scoped>\n",
       "    .dataframe tbody tr th:only-of-type {\n",
       "        vertical-align: middle;\n",
       "    }\n",
       "\n",
       "    .dataframe tbody tr th {\n",
       "        vertical-align: top;\n",
       "    }\n",
       "\n",
       "    .dataframe thead th {\n",
       "        text-align: right;\n",
       "    }\n",
       "</style>\n",
       "<table border=\"1\" class=\"dataframe\">\n",
       "  <thead>\n",
       "    <tr style=\"text-align: right;\">\n",
       "      <th></th>\n",
       "      <th>RowNumber</th>\n",
       "      <th>CustomerId</th>\n",
       "      <th>Surname</th>\n",
       "      <th>CreditScore</th>\n",
       "      <th>Geography</th>\n",
       "      <th>Gender</th>\n",
       "      <th>Age</th>\n",
       "      <th>Tenure</th>\n",
       "      <th>Balance</th>\n",
       "      <th>NumOfProducts</th>\n",
       "      <th>HasCrCard</th>\n",
       "      <th>IsActiveMember</th>\n",
       "      <th>EstimatedSalary</th>\n",
       "      <th>Exited</th>\n",
       "    </tr>\n",
       "  </thead>\n",
       "  <tbody>\n",
       "    <tr>\n",
       "      <th>0</th>\n",
       "      <td>1</td>\n",
       "      <td>15634602</td>\n",
       "      <td>Hargrave</td>\n",
       "      <td>619</td>\n",
       "      <td>France</td>\n",
       "      <td>Female</td>\n",
       "      <td>42</td>\n",
       "      <td>2.0</td>\n",
       "      <td>0.00</td>\n",
       "      <td>1</td>\n",
       "      <td>1</td>\n",
       "      <td>1</td>\n",
       "      <td>101348.88</td>\n",
       "      <td>1</td>\n",
       "    </tr>\n",
       "    <tr>\n",
       "      <th>1</th>\n",
       "      <td>2</td>\n",
       "      <td>15647311</td>\n",
       "      <td>Hill</td>\n",
       "      <td>608</td>\n",
       "      <td>Spain</td>\n",
       "      <td>Female</td>\n",
       "      <td>41</td>\n",
       "      <td>1.0</td>\n",
       "      <td>83807.86</td>\n",
       "      <td>1</td>\n",
       "      <td>0</td>\n",
       "      <td>1</td>\n",
       "      <td>112542.58</td>\n",
       "      <td>0</td>\n",
       "    </tr>\n",
       "    <tr>\n",
       "      <th>2</th>\n",
       "      <td>3</td>\n",
       "      <td>15619304</td>\n",
       "      <td>Onio</td>\n",
       "      <td>502</td>\n",
       "      <td>France</td>\n",
       "      <td>Female</td>\n",
       "      <td>42</td>\n",
       "      <td>8.0</td>\n",
       "      <td>159660.80</td>\n",
       "      <td>3</td>\n",
       "      <td>1</td>\n",
       "      <td>0</td>\n",
       "      <td>113931.57</td>\n",
       "      <td>1</td>\n",
       "    </tr>\n",
       "    <tr>\n",
       "      <th>3</th>\n",
       "      <td>4</td>\n",
       "      <td>15701354</td>\n",
       "      <td>Boni</td>\n",
       "      <td>699</td>\n",
       "      <td>France</td>\n",
       "      <td>Female</td>\n",
       "      <td>39</td>\n",
       "      <td>1.0</td>\n",
       "      <td>0.00</td>\n",
       "      <td>2</td>\n",
       "      <td>0</td>\n",
       "      <td>0</td>\n",
       "      <td>93826.63</td>\n",
       "      <td>0</td>\n",
       "    </tr>\n",
       "    <tr>\n",
       "      <th>4</th>\n",
       "      <td>5</td>\n",
       "      <td>15737888</td>\n",
       "      <td>Mitchell</td>\n",
       "      <td>850</td>\n",
       "      <td>Spain</td>\n",
       "      <td>Female</td>\n",
       "      <td>43</td>\n",
       "      <td>2.0</td>\n",
       "      <td>125510.82</td>\n",
       "      <td>1</td>\n",
       "      <td>1</td>\n",
       "      <td>1</td>\n",
       "      <td>79084.10</td>\n",
       "      <td>0</td>\n",
       "    </tr>\n",
       "  </tbody>\n",
       "</table>\n",
       "</div>"
      ],
      "text/plain": [
       "   RowNumber  CustomerId   Surname  CreditScore Geography  Gender  Age  \\\n",
       "0          1    15634602  Hargrave          619    France  Female   42   \n",
       "1          2    15647311      Hill          608     Spain  Female   41   \n",
       "2          3    15619304      Onio          502    France  Female   42   \n",
       "3          4    15701354      Boni          699    France  Female   39   \n",
       "4          5    15737888  Mitchell          850     Spain  Female   43   \n",
       "\n",
       "   Tenure    Balance  NumOfProducts  HasCrCard  IsActiveMember  \\\n",
       "0     2.0       0.00              1          1               1   \n",
       "1     1.0   83807.86              1          0               1   \n",
       "2     8.0  159660.80              3          1               0   \n",
       "3     1.0       0.00              2          0               0   \n",
       "4     2.0  125510.82              1          1               1   \n",
       "\n",
       "   EstimatedSalary  Exited  \n",
       "0        101348.88       1  \n",
       "1        112542.58       0  \n",
       "2        113931.57       1  \n",
       "3         93826.63       0  \n",
       "4         79084.10       0  "
      ]
     },
     "metadata": {},
     "output_type": "display_data"
    },
    {
     "name": "stdout",
     "output_type": "stream",
     "text": [
      "<class 'pandas.core.frame.DataFrame'>\n",
      "RangeIndex: 10000 entries, 0 to 9999\n",
      "Data columns (total 14 columns):\n",
      " #   Column           Non-Null Count  Dtype  \n",
      "---  ------           --------------  -----  \n",
      " 0   RowNumber        10000 non-null  int64  \n",
      " 1   CustomerId       10000 non-null  int64  \n",
      " 2   Surname          10000 non-null  object \n",
      " 3   CreditScore      10000 non-null  int64  \n",
      " 4   Geography        10000 non-null  object \n",
      " 5   Gender           10000 non-null  object \n",
      " 6   Age              10000 non-null  int64  \n",
      " 7   Tenure           9091 non-null   float64\n",
      " 8   Balance          10000 non-null  float64\n",
      " 9   NumOfProducts    10000 non-null  int64  \n",
      " 10  HasCrCard        10000 non-null  int64  \n",
      " 11  IsActiveMember   10000 non-null  int64  \n",
      " 12  EstimatedSalary  10000 non-null  float64\n",
      " 13  Exited           10000 non-null  int64  \n",
      "dtypes: float64(3), int64(8), object(3)\n",
      "memory usage: 1.1+ MB\n"
     ]
    },
    {
     "data": {
      "text/plain": [
       "None"
      ]
     },
     "metadata": {},
     "output_type": "display_data"
    },
    {
     "data": {
      "text/plain": [
       "(None, None)"
      ]
     },
     "execution_count": 3,
     "metadata": {},
     "output_type": "execute_result"
    }
   ],
   "source": [
    "# загрузка данных\n",
    "data = pd.read_csv('/datasets/Churn.csv')"
   ]
  },
  {
   "cell_type": "code",
   "execution_count": 4,
   "metadata": {},
   "outputs": [
    {
     "data": {
      "text/plain": [
       "0"
      ]
     },
     "execution_count": 4,
     "metadata": {},
     "output_type": "execute_result"
    }
   ],
   "source": [
    "# проверка наличия дубликатов\n",
    "data.duplicated().sum()"
   ]
  },
  {
   "cell_type": "code",
   "execution_count": 5,
   "metadata": {},
   "outputs": [],
   "source": [
    "# приведём названия столбцов к нижнему регистру и отредактируем некоторые из них\n",
    "data.columns = data.columns.str.lower()\n",
    "data.rename(columns = {'rownumber':'row_number',\n",
    "                       'customerid':'customer_id',\n",
    "                       'creditscore':'credit_score',\n",
    "                       'numofproducts':'num_of_products',\n",
    "                       'hascrcard':'has_cr_card',\n",
    "                       'isactivemember':'is_active_member',\n",
    "                       'estimatedsalary': 'estimated_salary'}, inplace = True) "
   ]
  },
  {
   "cell_type": "code",
   "execution_count": 6,
   "metadata": {},
   "outputs": [
    {
     "data": {
      "image/png": "[encoded data removed]",
      "text/plain": [
       "<Figure size 720x576 with 2 Axes>"
      ]
     },
     "metadata": {
      "needs_background": "light"
     },
     "output_type": "display_data"
    }
   ],
   "source": [
    "# для обработки пропусков полезно будет взглянуть на таблицу корреляции данных\n",
    "plt.figure(figsize=(10,8))\n",
    "sns.heatmap(data.corr(), annot=True, fmt=\".2f\", linewidths=0.1, cmap='Blues')\n",
    "plt.title('Тепловая карта корреляции признаков')\n",
    "plt.show()"
   ]
  },
  {
   "cell_type": "markdown",
   "metadata": {},
   "source": [
    "Таблица корреляции явно не указывает на признак, по которому можно восстановить пропуски в столбце количества недвижимости клиента.\n",
    "\n",
    "Попробуем восстановить пропуски по предполагаемой зарплате."
   ]
  },
  {
   "cell_type": "code",
   "execution_count": 7,
   "metadata": {},
   "outputs": [],
   "source": [
    "# обработка пропусков \n",
    "data['salary_groups'] = pd.qcut(data['estimated_salary'], 10) # создадим новый столбец с инте\n",
    "data['tenure'] = data.groupby('salary_groups')['tenure'].apply(lambda col: col.fillna(col.median()))\n",
    "data['tenure'] = data['tenure'].astype(int)# приведём количество недвижимости к целочисленному типу\n",
    "data.drop('salary_groups', axis=1, inplace=True)"
   ]
  },
  {
   "cell_type": "markdown",
   "metadata": {},
   "source": [
    "* Данные загружены.\n",
    "\n",
    "* Имена столбцов отредактированы и приведены к нижнему регистру.\n",
    "\n",
    "* Признак с количеством недвижимости клиента содержит пропуски. Скорее всего ошибка при сборе данных и пропуск свидетельствует об отсутствии недвижимости. Заменим `0`.\n"
   ]
  },
  {
   "cell_type": "code",
   "execution_count": 8,
   "metadata": {},
   "outputs": [],
   "source": [
    "# обработка категориальных признаков\n",
    "data_ohe = pd.get_dummies(data, columns=['gender', 'geography'], drop_first=True)"
   ]
  },
  {
   "cell_type": "code",
   "execution_count": 16,
   "metadata": {},
   "outputs": [
    {
     "name": "stdout",
     "output_type": "stream",
     "text": [
      " X_train shape: (8000, 11)\n",
      " y_train shape: (8000,)\n",
      " X_test shape: (2000, 11)\n",
      " y_test shape: (2000,)\n",
      "\n"
     ]
    }
   ],
   "source": [
    "# выделим признаки для обучения модели и целевой признак\n",
    "features = data_ohe.drop(['row_number', 'customer_id', 'surname', 'exited'], axis=1)\n",
    "target = data_ohe['exited']\n",
    "\n",
    "# разделение на обучающую и тестовую выборки\n",
    "X_train, X_test, y_train, y_test = train_test_split(features, target, \n",
    "                                                    test_size=0.2, \n",
    "                                                    stratify=target, # разделение с сохранением пропорции классов \n",
    "                                                    random_state=42)\n",
    "\n",
    "print(f' X_train shape: {X_train.shape}\\n',\n",
    "      f'y_train shape: {y_train.shape}\\n',\n",
    "      f'X_test shape: {X_test.shape}\\n',\n",
    "      f'y_test shape: {y_test.shape}\\n')"
   ]
  },
  {
   "cell_type": "code",
   "execution_count": 14,
   "metadata": {},
   "outputs": [],
   "source": [
    "# обработка числовых признаков\n",
    "numeric = ['credit_score', 'balance', 'age', 'estimated_salary']\n",
    "\n",
    "scaler = StandardScaler()\n",
    "scaler.fit(X_train[numeric])\n",
    "X_train[numeric] = scaler.transform(X_train[numeric])\n",
    "X_test[numeric] = scaler.transform(X_test[numeric])"
   ]
  },
  {
   "cell_type": "markdown",
   "metadata": {},
   "source": [
    "* Обработал категориальные признаки, которые будут использоваться в обучении, методом `One-Hot-Encoding`.\n",
    "\n",
    "* Разделил данные на обучающую и тестовую выборки.\n",
    "\n",
    "* С помощью `StandartScaller`обработал числовые признаки. "
   ]
  },
  {
   "cell_type": "markdown",
   "metadata": {},
   "source": [
    "# 2. Исследование задачи"
   ]
  },
  {
   "cell_type": "markdown",
   "metadata": {},
   "source": [
    "Проверим соотношение двух классов целевого признака в выборке:"
   ]
  },
  {
   "cell_type": "code",
   "execution_count": 10,
   "metadata": {},
   "outputs": [
    {
     "name": "stdout",
     "output_type": "stream",
     "text": [
      "Соотношение классов:\n"
     ]
    },
    {
     "data": {
      "text/plain": [
       "0    0.7963\n",
       "1    0.2037\n",
       "Name: exited, dtype: float64"
      ]
     },
     "metadata": {},
     "output_type": "display_data"
    },
    {
     "data": {
      "image/png": "[encoded data removed]",
      "text/plain": [
       "<Figure size 360x360 with 1 Axes>"
      ]
     },
     "metadata": {},
     "output_type": "display_data"
    }
   ],
   "source": [
    "print('Соотношение классов:')\n",
    "display(data['exited'].value_counts(normalize=True))\n",
    "\n",
    "plt.figure(figsize=(5,5))\n",
    "plt.pie(data['exited'].value_counts(), shadow=True, \n",
    "        explode=(0, 0.15), autopct='%1.f%%')\n",
    "plt.legend(loc='best', labels=['0','1'], fontsize='medium')\n",
    "plt.show()"
   ]
  },
  {
   "cell_type": "markdown",
   "metadata": {},
   "source": [
    "Соотношение классов 1:4. В среднем 1 из 5 клиентов уходят из банка, согласно данной выборке.\n",
    "\n",
    "Так как сохранение клиентов обходится банку дешевле, чем привлечение новых, для нас важно спрогнозировать и предотвратить уход клиента. \n",
    "Необходимо построить модель с высокой чувствительностью. Помимо точности(`precision`) модели, для нас так же большое значение имеет метрика полноты (`recall`).\n",
    "\n",
    "Для оценки модели будем использовать `F1_меру`:\n",
    "\n",
    "$$ F_1 = \\frac{2 * Precision * Recall}{Precision + Recall} $$ \n"
   ]
  },
  {
   "cell_type": "code",
   "execution_count": 17,
   "metadata": {},
   "outputs": [
    {
     "name": "stdout",
     "output_type": "stream",
     "text": [
      "Dummy Classifier F1: 0.207\n",
      "[[5069 1301]\n",
      " [1291  339]]\n",
      "Recall: 0.797\n",
      "Precision: 0.796\n",
      "______________________________\n",
      "\n",
      "Decision Tree Classifier F1: 0.501\n",
      "[[5503  867]\n",
      " [ 796  834]]\n",
      "Recall: 0.874\n",
      "Precision: 0.864\n",
      "______________________________\n",
      "\n",
      "Random Forest Classifier F1: 0.584\n",
      "[[6135  235]\n",
      " [ 860  770]]\n",
      "Recall: 0.877\n",
      "Precision: 0.963\n",
      "______________________________\n",
      "\n",
      "Logistic Regression F1: 0.061\n",
      "[[6273   97]\n",
      " [1576   54]]\n",
      "Recall: 0.799\n",
      "Precision: 0.985\n",
      "______________________________\n",
      "\n",
      "Support Vector Maschine F1: 0.236\n",
      "[[5059 1311]\n",
      " [1236  394]]\n",
      "Recall: 0.804\n",
      "Precision: 0.794\n",
      "______________________________\n",
      "\n"
     ]
    }
   ],
   "source": [
    "models = []\n",
    "\n",
    "models.append(['Dummy Classifier', DummyClassifier(strategy='stratified',random_state=42)])\n",
    "models.append(['Decision Tree Classifier', DecisionTreeClassifier(random_state=42)])\n",
    "models.append(['Random Forest Classifier', RandomForestClassifier(random_state=42)])\n",
    "models.append(['Logistic Regression', LogisticRegression(random_state=42)])\n",
    "models.append(['Support Vector Maschine', LinearSVC(random_state=42)])\n",
    "\n",
    "for name, classifier in models:\n",
    "    model = classifier.fit(X_train, y_train)\n",
    "    predictions = cross_val_predict(classifier, X_train, y_train, cv=8)\n",
    "    result = f1_score(y_train, predictions)\n",
    "    \n",
    "    \n",
    "    conf_matrix = confusion_matrix(y_train, predictions)\n",
    "    recall = conf_matrix[0, 0]/(conf_matrix[0, 0]+conf_matrix[1, 0])\n",
    "    precision = conf_matrix[0,0]/(conf_matrix[0,0]+conf_matrix[0,1])\n",
    "    \n",
    "    print('{} F1: {:.3f}'.format(name, result))\n",
    "    print(conf_matrix)\n",
    "    print('Recall: {:.3f}'.format(recall))\n",
    "    print('Precision: {:.3f}'.format(precision))\n",
    "    print('_' * 30 + '\\n')\n"
   ]
  },
  {
   "cell_type": "markdown",
   "metadata": {},
   "source": [
    "* Результаты получены при обучении моделей на данных без учёта дисбаланса классов. \n",
    "\n",
    "* Все модели проходят проверку адекватности в сравнении с оценкой DummyClassifier.\n",
    "\n",
    "* Наибольший показатель `F1_меры` демонстрируют `Дерево Решений` и `Случайный Лес`."
   ]
  },
  {
   "cell_type": "markdown",
   "metadata": {},
   "source": [
    "# 3. Борьба с дисбалансом и тестирование модели"
   ]
  },
  {
   "cell_type": "markdown",
   "metadata": {},
   "source": [
    "Протестируем два метода борьбы с дисбалансом `upsampling` и `взвешивание классов`."
   ]
  },
  {
   "cell_type": "markdown",
   "metadata": {},
   "source": [
    "Работать с дисбалансом будем предварительно подобрав лучшие параметры для модели случайного леса."
   ]
  },
  {
   "cell_type": "code",
   "execution_count": 12,
   "metadata": {},
   "outputs": [
    {
     "name": "stdout",
     "output_type": "stream",
     "text": [
      "Лучшие параметры модели: {'n_estimators': 40, 'max_depth': 11, 'criterion': 'gini'}\n",
      "____________________ \n",
      "\n",
      "F1_score: 0.615\n"
     ]
    }
   ],
   "source": [
    "# взвешивание классов\n",
    "forest_balanced = RandomForestClassifier(class_weight='balanced', random_state=42, n_jobs=-1)\n",
    "\n",
    "forest_params = {\n",
    "    'n_estimators': range(10, 80, 10),\n",
    "    'criterion':['gini', 'entropy'],\n",
    "    'max_depth': range(5, 20, 1)\n",
    "    }\n",
    "\n",
    "forest_search = RandomizedSearchCV(forest_balanced, param_distributions=forest_params, \n",
    "                                   cv=10, scoring='f1', random_state=42)\n",
    "forest_search.fit(X_train, y_train)\n",
    "print('Лучшие параметры модели:', forest_search.best_params_)\n",
    "print('_' * 20, '\\n')\n",
    "print('F1_score: {:.3f}'.format(forest_search.best_score_))"
   ]
  },
  {
   "cell_type": "code",
   "execution_count": 13,
   "metadata": {},
   "outputs": [
    {
     "name": "stdout",
     "output_type": "stream",
     "text": [
      "1    0.505818\n",
      "0    0.494182\n",
      "Name: exited, dtype: float64\n"
     ]
    }
   ],
   "source": [
    "# функция для upsampling-а\n",
    "def upsample(x, y, repeat):\n",
    "    x_zeros = x[y == 0]\n",
    "    x_ones = x[y == 1]\n",
    "    y_zeros = y[y == 0]\n",
    "    y_ones = y[y == 1]\n",
    "\n",
    "    x_upsampled = pd.concat([x_zeros] + [x_ones] * repeat)\n",
    "    y_upsampled = pd.concat([y_zeros] + [y_ones] * repeat)\n",
    "    \n",
    "    x_upsampled, y_upsampled = shuffle(x_upsampled, \n",
    "                                       y_upsampled, \n",
    "                                       random_state=42)\n",
    "    \n",
    "    return x_upsampled, y_upsampled\n",
    "\n",
    "X_train_upsampled, y_train_upsampled = upsample(X_train, y_train, 4)\n",
    "print(y_train_upsampled.value_counts(normalize=True))"
   ]
  },
  {
   "cell_type": "code",
   "execution_count": 14,
   "metadata": {},
   "outputs": [
    {
     "name": "stdout",
     "output_type": "stream",
     "text": [
      "F1_score: 0.879\n"
     ]
    }
   ],
   "source": [
    "# оценка модели с upsampling-ом\n",
    "forest_ups = RandomForestClassifier(criterion='gini', n_estimators=40, \n",
    "                                max_depth=11, \n",
    "                                random_state=42, n_jobs=-1)\n",
    "result = cross_val_score(forest_ups, X_train_upsampled, y_train_upsampled, cv=10, scoring='f1')\n",
    "print('F1_score: {:.3f}'.format(result.mean()))"
   ]
  },
  {
   "cell_type": "markdown",
   "metadata": {},
   "source": [
    "Возможно я где-то ошибся, но `upsampling` дал значительный прирост F1_меры - `0.879`\n",
    "\n",
    "F1 для модели с лучшими гиперпараметрами при сбалансировании классов - `0.615`"
   ]
  },
  {
   "cell_type": "markdown",
   "metadata": {},
   "source": [
    "# 4. Тестирование модели"
   ]
  },
  {
   "cell_type": "code",
   "execution_count": 15,
   "metadata": {},
   "outputs": [
    {
     "name": "stdout",
     "output_type": "stream",
     "text": [
      "F1_score: 0.618\n"
     ]
    }
   ],
   "source": [
    "forest_final = RandomForestClassifier(criterion='gini', n_estimators=40, \n",
    "                                max_depth=11, \n",
    "                                random_state=42, n_jobs=-1)\n",
    "forest_final.fit(X_train_upsampled, y_train_upsampled)\n",
    "print('F1_score: {:.3f}'.format(f1_score(y_test, forest_final.predict(X_test))))"
   ]
  },
  {
   "cell_type": "markdown",
   "metadata": {},
   "source": [
    "При работе с тестовой выборкой модель превзошла заданный порог `F1 = 0.59`"
   ]
  },
  {
   "cell_type": "markdown",
   "metadata": {},
   "source": [
    "Построим PR-кривую и посмотрим, как меняется соотношение этих метрик с изменением порога классификации."
   ]
  },
  {
   "cell_type": "code",
   "execution_count": 16,
   "metadata": {},
   "outputs": [
    {
     "data": {
      "image/png": "[encoded data removed]",
      "text/plain": [
       "<Figure size 432x432 with 1 Axes>"
      ]
     },
     "metadata": {
      "needs_background": "light"
     },
     "output_type": "display_data"
    }
   ],
   "source": [
    "probabilities_valid = forest_final.predict_proba(X_test)\n",
    "precision, recall, thresholds = precision_recall_curve(y_test, probabilities_valid[:, 1])\n",
    "\n",
    "plt.figure(figsize=(6, 6))\n",
    "plt.step(recall, precision, where='post')\n",
    "plt.xlabel('Recall')\n",
    "plt.ylabel('Precision')\n",
    "plt.ylim([0.0, 1.05])\n",
    "plt.xlim([0.0, 1.05])\n",
    "plt.title('Кривая Precision-Recall')\n",
    "plt.show() "
   ]
  },
  {
   "cell_type": "code",
   "execution_count": 17,
   "metadata": {},
   "outputs": [
    {
     "name": "stdout",
     "output_type": "stream",
     "text": [
      "Порог = 0.00 | Точность = 0.203 | Полнота = 1.000\n",
      "Порог = 0.02 | Точность = 0.204 | Полнота = 1.000\n",
      "Порог = 0.04 | Точность = 0.208 | Полнота = 0.995\n",
      "Порог = 0.06 | Точность = 0.217 | Полнота = 0.993\n",
      "Порог = 0.08 | Точность = 0.230 | Полнота = 0.988\n",
      "Порог = 0.10 | Точность = 0.242 | Полнота = 0.985\n",
      "Порог = 0.12 | Точность = 0.253 | Полнота = 0.983\n",
      "Порог = 0.14 | Точность = 0.264 | Полнота = 0.973\n",
      "Порог = 0.16 | Точность = 0.275 | Полнота = 0.961\n",
      "Порог = 0.18 | Точность = 0.288 | Полнота = 0.948\n",
      "Порог = 0.20 | Точность = 0.305 | Полнота = 0.936\n",
      "Порог = 0.22 | Точность = 0.318 | Полнота = 0.926\n",
      "Порог = 0.24 | Точность = 0.334 | Полнота = 0.914\n",
      "Порог = 0.26 | Точность = 0.348 | Полнота = 0.894\n",
      "Порог = 0.28 | Точность = 0.368 | Полнота = 0.877\n",
      "Порог = 0.30 | Точность = 0.388 | Полнота = 0.860\n",
      "Порог = 0.32 | Точность = 0.406 | Полнота = 0.848\n",
      "Порог = 0.34 | Точность = 0.419 | Полнота = 0.830\n",
      "Порог = 0.36 | Точность = 0.432 | Полнота = 0.816\n",
      "Порог = 0.38 | Точность = 0.444 | Полнота = 0.791\n",
      "Порог = 0.40 | Точность = 0.467 | Полнота = 0.781\n"
     ]
    }
   ],
   "source": [
    "probabilities_one_valid = probabilities_valid[:, 1]\n",
    "\n",
    "for threshold in np.arange(0, 0.42, 0.02):\n",
    "    predicted_valid = probabilities_one_valid > threshold\n",
    "    precision = precision_score(y_test, predicted_valid)\n",
    "    recall = recall_score(y_test, predicted_valid)\n",
    "\n",
    "    print(\"Порог = {:.2f} | Точность = {:.3f} | Полнота = {:.3f}\".format(\n",
    "        threshold, precision, recall))"
   ]
  },
  {
   "cell_type": "markdown",
   "metadata": {},
   "source": [
    "Взглянем на метрику ROC AUC."
   ]
  },
  {
   "cell_type": "code",
   "execution_count": 18,
   "metadata": {},
   "outputs": [
    {
     "name": "stdout",
     "output_type": "stream",
     "text": [
      "ROC_AUC Score: 0.858\n"
     ]
    },
    {
     "data": {
      "image/png": "[encoded data removed]",
      "text/plain": [
       "<Figure size 432x288 with 1 Axes>"
      ]
     },
     "metadata": {
      "needs_background": "light"
     },
     "output_type": "display_data"
    }
   ],
   "source": [
    "print('ROC_AUC Score: {:.3f}'.format(roc_auc_score(y_test, probabilities_valid[:, 1])))\n",
    "\n",
    "fpr, tpr, thresholds = roc_curve(y_test, probabilities_one_valid)\n",
    "\n",
    "plt.figure()\n",
    "plt.plot(fpr, tpr)\n",
    "\n",
    "plt.plot([0, 1], [0, 1], linestyle='--')\n",
    "plt.xlim(0, 1) \n",
    "plt.ylim(0, 1)\n",
    "\n",
    "plt.xlabel(\"False Positive Rate\")\n",
    "plt.ylabel(\"True Positive Rate\")\n",
    "plt.title(\"ROC-кривая\")\n",
    "plt.show()"
   ]
  },
  {
   "cell_type": "markdown",
   "metadata": {},
   "source": [
    "**Вывод**\n",
    "\n",
    "\n",
    "Итоговая модель дала нам высокую оценку `F1-меры = 0.618` и `ROC AUC = 0.858`.\n",
    "\n",
    "Так как поиск новых пользователей для банка обходится дороже, чем удержание клиентов, нам необходима модель с высокой чувствительностью. При пороге классификации в `~20%` мы достигаем `~94%` полноты прогнозирования оттока клиентов при `~30%` точности. Это значит, что 94% клиентов, желающих расторгнуть договор с банком, будут обнаружены. При этом придётся низкая точность модели будет давать множество ложноположительных результатов. Стоит вести очень тонкую и ненавязчивую компанию по удержанию клиентов банка."
   ]
  }
 ],
 "metadata": {
  "kernelspec": {
   "display_name": "Python 3",
   "language": "python",
   "name": "python3"
  },
  "language_info": {
   "codemirror_mode": {
    "name": "ipython",
    "version": 3
   },
   "file_extension": ".py",
   "mimetype": "text/x-python",
   "name": "python",
   "nbconvert_exporter": "python",
   "pygments_lexer": "ipython3",
   "version": "3.7.6"
  },
  "toc": {
   "base_numbering": 1,
   "nav_menu": {},
   "number_sections": true,
   "sideBar": true,
   "skip_h1_title": true,
   "title_cell": "Table of Contents",
   "title_sidebar": "Contents",
   "toc_cell": false,
   "toc_position": {},
   "toc_section_display": true,
   "toc_window_display": false
  }
 },
 "nbformat": 4,
 "nbformat_minor": 2
}
