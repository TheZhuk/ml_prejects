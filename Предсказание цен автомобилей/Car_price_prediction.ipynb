{
 "cells": [
  {
   "cell_type": "markdown",
   "metadata": {},
   "source": [
    "# Определение стоимости автомобилей"
   ]
  },
  {
   "cell_type": "markdown",
   "metadata": {},
   "source": [
    "Сервис по продаже автомобилей с пробегом разрабатывает приложение для привлечения новых клиентов. В нём можно быстро узнать рыночную стоимость своего автомобиля. В распоряжение поступили исторические данные: технические характеристики, комплектации и цены автомобилей. Задача - построить модель для определения стоимости. \n",
    "\n",
    "**Заказчику важны:**\n",
    "\n",
    "- качество предсказания;\n",
    "- скорость предсказания;\n",
    "- время обучения.\n",
    "\n",
    "\n",
    "\n",
    "**Описание данных:**\n",
    "\n",
    "Признаки:\n",
    "* DateCrawled — дата скачивания анкеты из базы\n",
    "* VehicleType — тип автомобильного кузова\n",
    "* RegistrationYear — год регистрации автомобиля\n",
    "* Gearbox — тип коробки передач\n",
    "* Power — мощность (л. с.)\n",
    "* Model — модель автомобиля\n",
    "* Kilometer — пробег (км)\n",
    "* RegistrationMonth — месяц регистрации автомобиля\n",
    "* FuelType — тип топлива\n",
    "* Brand — марка автомобиля\n",
    "* NotRepaired — была машина в ремонте или нет\n",
    "* DateCreated — дата создания анкеты\n",
    "* NumberOfPictures — количество фотографий автомобиля\n",
    "* PostalCode — почтовый индекс владельца анкеты (пользователя)\n",
    "* LastSeen — дата последней активности пользователя\n",
    "\n",
    "\n",
    "Целевой признак:\n",
    "* Price — цена (евро)\n"
   ]
  },
  {
   "cell_type": "markdown",
   "metadata": {},
   "source": [
    "## Подготовка данных"
   ]
  },
  {
   "cell_type": "code",
   "execution_count": 1,
   "metadata": {},
   "outputs": [],
   "source": [
    "import warnings\n",
    "warnings.simplefilter('ignore')\n",
    "\n",
    "import numpy as np\n",
    "import pandas as pd\n",
    "import seaborn as sns\n",
    "import plotly.express as px\n",
    "import matplotlib.pyplot as plt\n",
    "%matplotlib inline\n",
    "\n",
    "from sklearn.preprocessing import StandardScaler, OrdinalEncoder\n",
    "from sklearn import model_selection\n",
    "from sklearn.metrics import mean_squared_error, make_scorer\n",
    "\n",
    "from sklearn.linear_model import LinearRegression, ElasticNet, Ridge, Lasso\n",
    "from sklearn.ensemble import RandomForestRegressor, GradientBoostingRegressor\n",
    "from xgboost import XGBRegressor\n",
    "from lightgbm import LGBMRegressor\n",
    "from catboost import CatBoostRegressor"
   ]
  },
  {
   "cell_type": "markdown",
   "metadata": {},
   "source": [
    "### Загрузка данных"
   ]
  },
  {
   "cell_type": "code",
   "execution_count": 2,
   "metadata": {},
   "outputs": [],
   "source": [
    "# загрузка данных\n",
    "df = pd.read_csv('/datasets/autos.csv')"
   ]
  },
  {
   "cell_type": "markdown",
   "metadata": {},
   "source": [
    "### Просмотр данных "
   ]
  },
  {
   "cell_type": "code",
   "execution_count": 3,
   "metadata": {},
   "outputs": [
    {
     "data": {
      "text/html": [
       "<div>\n",
       "<style scoped>\n",
       "    .dataframe tbody tr th:only-of-type {\n",
       "        vertical-align: middle;\n",
       "    }\n",
       "\n",
       "    .dataframe tbody tr th {\n",
       "        vertical-align: top;\n",
       "    }\n",
       "\n",
       "    .dataframe thead th {\n",
       "        text-align: right;\n",
       "    }\n",
       "</style>\n",
       "<table border=\"1\" class=\"dataframe\">\n",
       "  <thead>\n",
       "    <tr style=\"text-align: right;\">\n",
       "      <th></th>\n",
       "      <th>DateCrawled</th>\n",
       "      <th>Price</th>\n",
       "      <th>VehicleType</th>\n",
       "      <th>RegistrationYear</th>\n",
       "      <th>Gearbox</th>\n",
       "      <th>Power</th>\n",
       "      <th>Model</th>\n",
       "      <th>Kilometer</th>\n",
       "      <th>RegistrationMonth</th>\n",
       "      <th>FuelType</th>\n",
       "      <th>Brand</th>\n",
       "      <th>NotRepaired</th>\n",
       "      <th>DateCreated</th>\n",
       "      <th>NumberOfPictures</th>\n",
       "      <th>PostalCode</th>\n",
       "      <th>LastSeen</th>\n",
       "    </tr>\n",
       "  </thead>\n",
       "  <tbody>\n",
       "    <tr>\n",
       "      <td>0</td>\n",
       "      <td>2016-03-24 11:52:17</td>\n",
       "      <td>480</td>\n",
       "      <td>NaN</td>\n",
       "      <td>1993</td>\n",
       "      <td>manual</td>\n",
       "      <td>0</td>\n",
       "      <td>golf</td>\n",
       "      <td>150000</td>\n",
       "      <td>0</td>\n",
       "      <td>petrol</td>\n",
       "      <td>volkswagen</td>\n",
       "      <td>NaN</td>\n",
       "      <td>2016-03-24 00:00:00</td>\n",
       "      <td>0</td>\n",
       "      <td>70435</td>\n",
       "      <td>2016-04-07 03:16:57</td>\n",
       "    </tr>\n",
       "    <tr>\n",
       "      <td>1</td>\n",
       "      <td>2016-03-24 10:58:45</td>\n",
       "      <td>18300</td>\n",
       "      <td>coupe</td>\n",
       "      <td>2011</td>\n",
       "      <td>manual</td>\n",
       "      <td>190</td>\n",
       "      <td>NaN</td>\n",
       "      <td>125000</td>\n",
       "      <td>5</td>\n",
       "      <td>gasoline</td>\n",
       "      <td>audi</td>\n",
       "      <td>yes</td>\n",
       "      <td>2016-03-24 00:00:00</td>\n",
       "      <td>0</td>\n",
       "      <td>66954</td>\n",
       "      <td>2016-04-07 01:46:50</td>\n",
       "    </tr>\n",
       "    <tr>\n",
       "      <td>2</td>\n",
       "      <td>2016-03-14 12:52:21</td>\n",
       "      <td>9800</td>\n",
       "      <td>suv</td>\n",
       "      <td>2004</td>\n",
       "      <td>auto</td>\n",
       "      <td>163</td>\n",
       "      <td>grand</td>\n",
       "      <td>125000</td>\n",
       "      <td>8</td>\n",
       "      <td>gasoline</td>\n",
       "      <td>jeep</td>\n",
       "      <td>NaN</td>\n",
       "      <td>2016-03-14 00:00:00</td>\n",
       "      <td>0</td>\n",
       "      <td>90480</td>\n",
       "      <td>2016-04-05 12:47:46</td>\n",
       "    </tr>\n",
       "    <tr>\n",
       "      <td>3</td>\n",
       "      <td>2016-03-17 16:54:04</td>\n",
       "      <td>1500</td>\n",
       "      <td>small</td>\n",
       "      <td>2001</td>\n",
       "      <td>manual</td>\n",
       "      <td>75</td>\n",
       "      <td>golf</td>\n",
       "      <td>150000</td>\n",
       "      <td>6</td>\n",
       "      <td>petrol</td>\n",
       "      <td>volkswagen</td>\n",
       "      <td>no</td>\n",
       "      <td>2016-03-17 00:00:00</td>\n",
       "      <td>0</td>\n",
       "      <td>91074</td>\n",
       "      <td>2016-03-17 17:40:17</td>\n",
       "    </tr>\n",
       "    <tr>\n",
       "      <td>4</td>\n",
       "      <td>2016-03-31 17:25:20</td>\n",
       "      <td>3600</td>\n",
       "      <td>small</td>\n",
       "      <td>2008</td>\n",
       "      <td>manual</td>\n",
       "      <td>69</td>\n",
       "      <td>fabia</td>\n",
       "      <td>90000</td>\n",
       "      <td>7</td>\n",
       "      <td>gasoline</td>\n",
       "      <td>skoda</td>\n",
       "      <td>no</td>\n",
       "      <td>2016-03-31 00:00:00</td>\n",
       "      <td>0</td>\n",
       "      <td>60437</td>\n",
       "      <td>2016-04-06 10:17:21</td>\n",
       "    </tr>\n",
       "  </tbody>\n",
       "</table>\n",
       "</div>"
      ],
      "text/plain": [
       "           DateCrawled  Price VehicleType  RegistrationYear Gearbox  Power  \\\n",
       "0  2016-03-24 11:52:17    480         NaN              1993  manual      0   \n",
       "1  2016-03-24 10:58:45  18300       coupe              2011  manual    190   \n",
       "2  2016-03-14 12:52:21   9800         suv              2004    auto    163   \n",
       "3  2016-03-17 16:54:04   1500       small              2001  manual     75   \n",
       "4  2016-03-31 17:25:20   3600       small              2008  manual     69   \n",
       "\n",
       "   Model  Kilometer  RegistrationMonth  FuelType       Brand NotRepaired  \\\n",
       "0   golf     150000                  0    petrol  volkswagen         NaN   \n",
       "1    NaN     125000                  5  gasoline        audi         yes   \n",
       "2  grand     125000                  8  gasoline        jeep         NaN   \n",
       "3   golf     150000                  6    petrol  volkswagen          no   \n",
       "4  fabia      90000                  7  gasoline       skoda          no   \n",
       "\n",
       "           DateCreated  NumberOfPictures  PostalCode             LastSeen  \n",
       "0  2016-03-24 00:00:00                 0       70435  2016-04-07 03:16:57  \n",
       "1  2016-03-24 00:00:00                 0       66954  2016-04-07 01:46:50  \n",
       "2  2016-03-14 00:00:00                 0       90480  2016-04-05 12:47:46  \n",
       "3  2016-03-17 00:00:00                 0       91074  2016-03-17 17:40:17  \n",
       "4  2016-03-31 00:00:00                 0       60437  2016-04-06 10:17:21  "
      ]
     },
     "execution_count": 3,
     "metadata": {},
     "output_type": "execute_result"
    }
   ],
   "source": [
    "df.head()"
   ]
  },
  {
   "cell_type": "code",
   "execution_count": 4,
   "metadata": {},
   "outputs": [
    {
     "name": "stdout",
     "output_type": "stream",
     "text": [
      "<class 'pandas.core.frame.DataFrame'>\n",
      "RangeIndex: 354369 entries, 0 to 354368\n",
      "Data columns (total 16 columns):\n",
      "DateCrawled          354369 non-null object\n",
      "Price                354369 non-null int64\n",
      "VehicleType          316879 non-null object\n",
      "RegistrationYear     354369 non-null int64\n",
      "Gearbox              334536 non-null object\n",
      "Power                354369 non-null int64\n",
      "Model                334664 non-null object\n",
      "Kilometer            354369 non-null int64\n",
      "RegistrationMonth    354369 non-null int64\n",
      "FuelType             321474 non-null object\n",
      "Brand                354369 non-null object\n",
      "NotRepaired          283215 non-null object\n",
      "DateCreated          354369 non-null object\n",
      "NumberOfPictures     354369 non-null int64\n",
      "PostalCode           354369 non-null int64\n",
      "LastSeen             354369 non-null object\n",
      "dtypes: int64(7), object(9)\n",
      "memory usage: 43.3+ MB\n"
     ]
    },
    {
     "data": {
      "text/plain": [
       "None"
      ]
     },
     "metadata": {},
     "output_type": "display_data"
    },
    {
     "name": "stdout",
     "output_type": "stream",
     "text": [
      "________________________________________ \n",
      "\n"
     ]
    },
    {
     "data": {
      "text/html": [
       "<div>\n",
       "<style scoped>\n",
       "    .dataframe tbody tr th:only-of-type {\n",
       "        vertical-align: middle;\n",
       "    }\n",
       "\n",
       "    .dataframe tbody tr th {\n",
       "        vertical-align: top;\n",
       "    }\n",
       "\n",
       "    .dataframe thead th {\n",
       "        text-align: right;\n",
       "    }\n",
       "</style>\n",
       "<table border=\"1\" class=\"dataframe\">\n",
       "  <thead>\n",
       "    <tr style=\"text-align: right;\">\n",
       "      <th></th>\n",
       "      <th>percent_missing</th>\n",
       "    </tr>\n",
       "    <tr>\n",
       "      <th>column_name</th>\n",
       "      <th></th>\n",
       "    </tr>\n",
       "  </thead>\n",
       "  <tbody>\n",
       "    <tr>\n",
       "      <td>NotRepaired</td>\n",
       "      <td>20.079070</td>\n",
       "    </tr>\n",
       "    <tr>\n",
       "      <td>VehicleType</td>\n",
       "      <td>10.579368</td>\n",
       "    </tr>\n",
       "    <tr>\n",
       "      <td>FuelType</td>\n",
       "      <td>9.282697</td>\n",
       "    </tr>\n",
       "    <tr>\n",
       "      <td>Gearbox</td>\n",
       "      <td>5.596709</td>\n",
       "    </tr>\n",
       "    <tr>\n",
       "      <td>Model</td>\n",
       "      <td>5.560588</td>\n",
       "    </tr>\n",
       "    <tr>\n",
       "      <td>DateCrawled</td>\n",
       "      <td>0.000000</td>\n",
       "    </tr>\n",
       "    <tr>\n",
       "      <td>Price</td>\n",
       "      <td>0.000000</td>\n",
       "    </tr>\n",
       "    <tr>\n",
       "      <td>RegistrationYear</td>\n",
       "      <td>0.000000</td>\n",
       "    </tr>\n",
       "    <tr>\n",
       "      <td>Power</td>\n",
       "      <td>0.000000</td>\n",
       "    </tr>\n",
       "    <tr>\n",
       "      <td>Kilometer</td>\n",
       "      <td>0.000000</td>\n",
       "    </tr>\n",
       "    <tr>\n",
       "      <td>RegistrationMonth</td>\n",
       "      <td>0.000000</td>\n",
       "    </tr>\n",
       "    <tr>\n",
       "      <td>Brand</td>\n",
       "      <td>0.000000</td>\n",
       "    </tr>\n",
       "    <tr>\n",
       "      <td>DateCreated</td>\n",
       "      <td>0.000000</td>\n",
       "    </tr>\n",
       "    <tr>\n",
       "      <td>NumberOfPictures</td>\n",
       "      <td>0.000000</td>\n",
       "    </tr>\n",
       "    <tr>\n",
       "      <td>PostalCode</td>\n",
       "      <td>0.000000</td>\n",
       "    </tr>\n",
       "    <tr>\n",
       "      <td>LastSeen</td>\n",
       "      <td>0.000000</td>\n",
       "    </tr>\n",
       "  </tbody>\n",
       "</table>\n",
       "</div>"
      ],
      "text/plain": [
       "                   percent_missing\n",
       "column_name                       \n",
       "NotRepaired              20.079070\n",
       "VehicleType              10.579368\n",
       "FuelType                  9.282697\n",
       "Gearbox                   5.596709\n",
       "Model                     5.560588\n",
       "DateCrawled               0.000000\n",
       "Price                     0.000000\n",
       "RegistrationYear          0.000000\n",
       "Power                     0.000000\n",
       "Kilometer                 0.000000\n",
       "RegistrationMonth         0.000000\n",
       "Brand                     0.000000\n",
       "DateCreated               0.000000\n",
       "NumberOfPictures          0.000000\n",
       "PostalCode                0.000000\n",
       "LastSeen                  0.000000"
      ]
     },
     "metadata": {},
     "output_type": "display_data"
    },
    {
     "name": "stdout",
     "output_type": "stream",
     "text": [
      "________________________________________ \n",
      "\n",
      "Дубликаты в данных: 4\n"
     ]
    }
   ],
   "source": [
    "# отобразим общую информацию\n",
    "display(df.info())\n",
    "print('_' * 40, '\\n')\n",
    "\n",
    "# % пропущенных значений в каждом столбце\n",
    "percent_missing = df.isnull().sum() * 100 / len(df)\n",
    "missing_value_df = pd.DataFrame({'column_name': df.columns,\n",
    "                                 'percent_missing': percent_missing}).set_index('column_name', drop=True)\n",
    "display(missing_value_df.sort_values(by='percent_missing', ascending=False))\n",
    "print('_' * 40, '\\n')\n",
    "\n",
    "# дубликаты в данных\n",
    "dup = df.duplicated().sum()\n",
    "print('Дубликаты в данных:', dup)"
   ]
  },
  {
   "cell_type": "code",
   "execution_count": 5,
   "metadata": {},
   "outputs": [
    {
     "data": {
      "text/html": [
       "<div>\n",
       "<style scoped>\n",
       "    .dataframe tbody tr th:only-of-type {\n",
       "        vertical-align: middle;\n",
       "    }\n",
       "\n",
       "    .dataframe tbody tr th {\n",
       "        vertical-align: top;\n",
       "    }\n",
       "\n",
       "    .dataframe thead th {\n",
       "        text-align: right;\n",
       "    }\n",
       "</style>\n",
       "<table border=\"1\" class=\"dataframe\">\n",
       "  <thead>\n",
       "    <tr style=\"text-align: right;\">\n",
       "      <th></th>\n",
       "      <th>Price</th>\n",
       "      <th>RegistrationYear</th>\n",
       "      <th>Power</th>\n",
       "      <th>Kilometer</th>\n",
       "      <th>RegistrationMonth</th>\n",
       "      <th>NumberOfPictures</th>\n",
       "      <th>PostalCode</th>\n",
       "    </tr>\n",
       "  </thead>\n",
       "  <tbody>\n",
       "    <tr>\n",
       "      <td>count</td>\n",
       "      <td>354369.000000</td>\n",
       "      <td>354369.000000</td>\n",
       "      <td>354369.000000</td>\n",
       "      <td>354369.000000</td>\n",
       "      <td>354369.000000</td>\n",
       "      <td>354369.0</td>\n",
       "      <td>354369.000000</td>\n",
       "    </tr>\n",
       "    <tr>\n",
       "      <td>mean</td>\n",
       "      <td>4416.656776</td>\n",
       "      <td>2004.234448</td>\n",
       "      <td>110.094337</td>\n",
       "      <td>128211.172535</td>\n",
       "      <td>5.714645</td>\n",
       "      <td>0.0</td>\n",
       "      <td>50508.689087</td>\n",
       "    </tr>\n",
       "    <tr>\n",
       "      <td>std</td>\n",
       "      <td>4514.158514</td>\n",
       "      <td>90.227958</td>\n",
       "      <td>189.850405</td>\n",
       "      <td>37905.341530</td>\n",
       "      <td>3.726421</td>\n",
       "      <td>0.0</td>\n",
       "      <td>25783.096248</td>\n",
       "    </tr>\n",
       "    <tr>\n",
       "      <td>min</td>\n",
       "      <td>0.000000</td>\n",
       "      <td>1000.000000</td>\n",
       "      <td>0.000000</td>\n",
       "      <td>5000.000000</td>\n",
       "      <td>0.000000</td>\n",
       "      <td>0.0</td>\n",
       "      <td>1067.000000</td>\n",
       "    </tr>\n",
       "    <tr>\n",
       "      <td>25%</td>\n",
       "      <td>1050.000000</td>\n",
       "      <td>1999.000000</td>\n",
       "      <td>69.000000</td>\n",
       "      <td>125000.000000</td>\n",
       "      <td>3.000000</td>\n",
       "      <td>0.0</td>\n",
       "      <td>30165.000000</td>\n",
       "    </tr>\n",
       "    <tr>\n",
       "      <td>50%</td>\n",
       "      <td>2700.000000</td>\n",
       "      <td>2003.000000</td>\n",
       "      <td>105.000000</td>\n",
       "      <td>150000.000000</td>\n",
       "      <td>6.000000</td>\n",
       "      <td>0.0</td>\n",
       "      <td>49413.000000</td>\n",
       "    </tr>\n",
       "    <tr>\n",
       "      <td>75%</td>\n",
       "      <td>6400.000000</td>\n",
       "      <td>2008.000000</td>\n",
       "      <td>143.000000</td>\n",
       "      <td>150000.000000</td>\n",
       "      <td>9.000000</td>\n",
       "      <td>0.0</td>\n",
       "      <td>71083.000000</td>\n",
       "    </tr>\n",
       "    <tr>\n",
       "      <td>max</td>\n",
       "      <td>20000.000000</td>\n",
       "      <td>9999.000000</td>\n",
       "      <td>20000.000000</td>\n",
       "      <td>150000.000000</td>\n",
       "      <td>12.000000</td>\n",
       "      <td>0.0</td>\n",
       "      <td>99998.000000</td>\n",
       "    </tr>\n",
       "  </tbody>\n",
       "</table>\n",
       "</div>"
      ],
      "text/plain": [
       "               Price  RegistrationYear          Power      Kilometer  \\\n",
       "count  354369.000000     354369.000000  354369.000000  354369.000000   \n",
       "mean     4416.656776       2004.234448     110.094337  128211.172535   \n",
       "std      4514.158514         90.227958     189.850405   37905.341530   \n",
       "min         0.000000       1000.000000       0.000000    5000.000000   \n",
       "25%      1050.000000       1999.000000      69.000000  125000.000000   \n",
       "50%      2700.000000       2003.000000     105.000000  150000.000000   \n",
       "75%      6400.000000       2008.000000     143.000000  150000.000000   \n",
       "max     20000.000000       9999.000000   20000.000000  150000.000000   \n",
       "\n",
       "       RegistrationMonth  NumberOfPictures     PostalCode  \n",
       "count      354369.000000          354369.0  354369.000000  \n",
       "mean            5.714645               0.0   50508.689087  \n",
       "std             3.726421               0.0   25783.096248  \n",
       "min             0.000000               0.0    1067.000000  \n",
       "25%             3.000000               0.0   30165.000000  \n",
       "50%             6.000000               0.0   49413.000000  \n",
       "75%             9.000000               0.0   71083.000000  \n",
       "max            12.000000               0.0   99998.000000  "
      ]
     },
     "execution_count": 5,
     "metadata": {},
     "output_type": "execute_result"
    }
   ],
   "source": [
    "df.describe()"
   ]
  },
  {
   "cell_type": "markdown",
   "metadata": {},
   "source": [
    "### Вывод по первичному просмотру данных:\n",
    "\n",
    "1. В датафрейме имеется большое количество пропусков для следующих признаков:\n",
    "\n",
    "    * NotRepaired - 20%\n",
    "\n",
    "    * VehicleType - 10.57%\n",
    "\n",
    "    * FuelType - 9.3%\n",
    "\n",
    "    * Gearbox - 5.6%\n",
    "\n",
    "    * Model - 5.6%\n",
    "\n",
    "\n",
    "2. В данных присутствуют дубликаты.\n",
    "\n",
    "3. Некоторые признаки имеют выбросы (`Год регистриации`, `Мощность`)\n",
    "\n",
    "4. Признак `Количество фото` не содержит никакой информации и полностью состоит из нулей.\n",
    "\n"
   ]
  },
  {
   "cell_type": "markdown",
   "metadata": {},
   "source": [
    "### Обработка дубликатов "
   ]
  },
  {
   "cell_type": "code",
   "execution_count": 6,
   "metadata": {},
   "outputs": [],
   "source": [
    "# избавимся от дубликатов\n",
    "df.drop_duplicates(inplace=True)"
   ]
  },
  {
   "cell_type": "markdown",
   "metadata": {},
   "source": [
    "### Обработка пропусков"
   ]
  },
  {
   "cell_type": "code",
   "execution_count": 7,
   "metadata": {},
   "outputs": [],
   "source": [
    "# пропуски носят характер MCAR и дабы не потерять данные, заменим NaN обозначением 'undefined'\n",
    "df_cleaned = df.fillna('undefined')"
   ]
  },
  {
   "cell_type": "markdown",
   "metadata": {},
   "source": [
    "### Обработка выбросов"
   ]
  },
  {
   "cell_type": "markdown",
   "metadata": {},
   "source": [
    "#### Признак - Год регистрации автомобиля \"RegistrationYear\""
   ]
  },
  {
   "cell_type": "code",
   "execution_count": 8,
   "metadata": {},
   "outputs": [
    {
     "data": {
      "image/png": "[encoded data removed]",
      "text/plain": [
       "<Figure size 720x360 with 1 Axes>"
      ]
     },
     "metadata": {
      "needs_background": "light"
     },
     "output_type": "display_data"
    }
   ],
   "source": [
    "plt.figure(figsize=(10,5))\n",
    "sns.violinplot(x='RegistrationYear', data=df_cleaned)\n",
    "plt.title('Диаграмма размаха года регистрации авто')\n",
    "plt.show()"
   ]
  },
  {
   "cell_type": "code",
   "execution_count": 9,
   "metadata": {},
   "outputs": [],
   "source": [
    "# Напишем функцию для удаления выбросов\n",
    "def quantile_clean(df: pd.DataFrame, prefics: str, percent_to_delete: float):\n",
    "    \"\"\"\n",
    "    Удаляет выбросы по заданным персентилями пороговым значениям.\n",
    "    Возвращает датафрейм с очищенным признаком и печатает количество удалённых строк. \n",
    "    \n",
    "    - df: Датафрейм\n",
    "    - prefics: Название столбца, в котором требуется удалить выбросы (в строковом формате)\n",
    "    - percent_to_delete: Процент удаляемых данных.\n",
    "    \"\"\"\n",
    "    original_lenght = df.shape[0]\n",
    "    \n",
    "    low_border = percent_to_delete\n",
    "    high_border = 1 - percent_to_delete\n",
    "    df = df[(df[prefics] >= df[prefics].quantile(low_border)) & \n",
    "                              (df[prefics] <= df[prefics].quantile(high_border))]\n",
    "    \n",
    "    lenght_after = original_lenght - df.shape[0]\n",
    "    print('Было удалено {} строк, {:.3%}'.format(lenght_after, lenght_after / original_lenght))\n",
    "    \n",
    "    return df"
   ]
  },
  {
   "cell_type": "code",
   "execution_count": 10,
   "metadata": {
    "scrolled": true
   },
   "outputs": [
    {
     "name": "stdout",
     "output_type": "stream",
     "text": [
      "Было удалено 482 строк, 0.136%\n"
     ]
    },
    {
     "data": {
      "image/png": "[encoded data removed]",
      "text/plain": [
       "<Figure size 720x360 with 1 Axes>"
      ]
     },
     "metadata": {
      "needs_background": "light"
     },
     "output_type": "display_data"
    }
   ],
   "source": [
    "df_cleaned = quantile_clean(df_cleaned, 'RegistrationYear', 0.001)\n",
    "\n",
    "plt.figure(figsize=(10,5))\n",
    "sns.violinplot(x='RegistrationYear', data=df_cleaned)\n",
    "plt.title('Распределение автомобилей по году регистрации')\n",
    "plt.show()"
   ]
  },
  {
   "cell_type": "markdown",
   "metadata": {},
   "source": [
    "#### Признак - Мощность двигателя \"Power\""
   ]
  },
  {
   "cell_type": "code",
   "execution_count": 11,
   "metadata": {
    "scrolled": true
   },
   "outputs": [
    {
     "data": {
      "image/png": "[encoded data removed]",
      "text/plain": [
       "<Figure size 720x360 with 1 Axes>"
      ]
     },
     "metadata": {
      "needs_background": "light"
     },
     "output_type": "display_data"
    }
   ],
   "source": [
    "plt.figure(figsize=(10,5))\n",
    "sns.violinplot(data=df_cleaned, x='Power')\n",
    "plt.title('Распределение мощности автомобилей')\n",
    "plt.show()"
   ]
  },
  {
   "cell_type": "code",
   "execution_count": 12,
   "metadata": {
    "scrolled": true
   },
   "outputs": [
    {
     "name": "stdout",
     "output_type": "stream",
     "text": [
      "Было удалено 615 строк, 0.196%\n"
     ]
    },
    {
     "data": {
      "image/png": "[encoded data removed]",
      "text/plain": [
       "<Figure size 720x360 with 1 Axes>"
      ]
     },
     "metadata": {
      "needs_background": "light"
     },
     "output_type": "display_data"
    }
   ],
   "source": [
    "df_cleaned = quantile_clean(df_cleaned.query('Power > 0'), 'Power', 0.001)\n",
    "\n",
    "plt.figure(figsize=(10,5))\n",
    "sns.violinplot(data=df_cleaned, x='Power')\n",
    "plt.title('Распределение мощности автомобилей')\n",
    "plt.show()"
   ]
  },
  {
   "cell_type": "code",
   "execution_count": 13,
   "metadata": {},
   "outputs": [
    {
     "data": {
      "text/html": [
       "<div>\n",
       "<style scoped>\n",
       "    .dataframe tbody tr th:only-of-type {\n",
       "        vertical-align: middle;\n",
       "    }\n",
       "\n",
       "    .dataframe tbody tr th {\n",
       "        vertical-align: top;\n",
       "    }\n",
       "\n",
       "    .dataframe thead th {\n",
       "        text-align: right;\n",
       "    }\n",
       "</style>\n",
       "<table border=\"1\" class=\"dataframe\">\n",
       "  <thead>\n",
       "    <tr style=\"text-align: right;\">\n",
       "      <th></th>\n",
       "      <th>Price</th>\n",
       "      <th>RegistrationYear</th>\n",
       "      <th>Power</th>\n",
       "      <th>Kilometer</th>\n",
       "      <th>RegistrationMonth</th>\n",
       "      <th>NumberOfPictures</th>\n",
       "      <th>PostalCode</th>\n",
       "    </tr>\n",
       "  </thead>\n",
       "  <tbody>\n",
       "    <tr>\n",
       "      <td>count</td>\n",
       "      <td>313354.000000</td>\n",
       "      <td>313354.000000</td>\n",
       "      <td>313354.000000</td>\n",
       "      <td>313354.000000</td>\n",
       "      <td>313354.000000</td>\n",
       "      <td>313354.0</td>\n",
       "      <td>313354.000000</td>\n",
       "    </tr>\n",
       "    <tr>\n",
       "      <td>mean</td>\n",
       "      <td>4705.280172</td>\n",
       "      <td>2003.270190</td>\n",
       "      <td>120.359265</td>\n",
       "      <td>128595.741557</td>\n",
       "      <td>5.935533</td>\n",
       "      <td>0.0</td>\n",
       "      <td>51027.658785</td>\n",
       "    </tr>\n",
       "    <tr>\n",
       "      <td>std</td>\n",
       "      <td>4590.594771</td>\n",
       "      <td>6.901401</td>\n",
       "      <td>54.374202</td>\n",
       "      <td>36692.619380</td>\n",
       "      <td>3.615453</td>\n",
       "      <td>0.0</td>\n",
       "      <td>25795.335228</td>\n",
       "    </tr>\n",
       "    <tr>\n",
       "      <td>min</td>\n",
       "      <td>0.000000</td>\n",
       "      <td>1957.000000</td>\n",
       "      <td>15.000000</td>\n",
       "      <td>5000.000000</td>\n",
       "      <td>0.000000</td>\n",
       "      <td>0.0</td>\n",
       "      <td>1067.000000</td>\n",
       "    </tr>\n",
       "    <tr>\n",
       "      <td>25%</td>\n",
       "      <td>1250.000000</td>\n",
       "      <td>1999.000000</td>\n",
       "      <td>75.000000</td>\n",
       "      <td>125000.000000</td>\n",
       "      <td>3.000000</td>\n",
       "      <td>0.0</td>\n",
       "      <td>30853.000000</td>\n",
       "    </tr>\n",
       "    <tr>\n",
       "      <td>50%</td>\n",
       "      <td>2999.000000</td>\n",
       "      <td>2003.000000</td>\n",
       "      <td>110.000000</td>\n",
       "      <td>150000.000000</td>\n",
       "      <td>6.000000</td>\n",
       "      <td>0.0</td>\n",
       "      <td>49828.000000</td>\n",
       "    </tr>\n",
       "    <tr>\n",
       "      <td>75%</td>\n",
       "      <td>6890.000000</td>\n",
       "      <td>2008.000000</td>\n",
       "      <td>150.000000</td>\n",
       "      <td>150000.000000</td>\n",
       "      <td>9.000000</td>\n",
       "      <td>0.0</td>\n",
       "      <td>71665.000000</td>\n",
       "    </tr>\n",
       "    <tr>\n",
       "      <td>max</td>\n",
       "      <td>20000.000000</td>\n",
       "      <td>2018.000000</td>\n",
       "      <td>902.000000</td>\n",
       "      <td>150000.000000</td>\n",
       "      <td>12.000000</td>\n",
       "      <td>0.0</td>\n",
       "      <td>99998.000000</td>\n",
       "    </tr>\n",
       "  </tbody>\n",
       "</table>\n",
       "</div>"
      ],
      "text/plain": [
       "               Price  RegistrationYear          Power      Kilometer  \\\n",
       "count  313354.000000     313354.000000  313354.000000  313354.000000   \n",
       "mean     4705.280172       2003.270190     120.359265  128595.741557   \n",
       "std      4590.594771          6.901401      54.374202   36692.619380   \n",
       "min         0.000000       1957.000000      15.000000    5000.000000   \n",
       "25%      1250.000000       1999.000000      75.000000  125000.000000   \n",
       "50%      2999.000000       2003.000000     110.000000  150000.000000   \n",
       "75%      6890.000000       2008.000000     150.000000  150000.000000   \n",
       "max     20000.000000       2018.000000     902.000000  150000.000000   \n",
       "\n",
       "       RegistrationMonth  NumberOfPictures     PostalCode  \n",
       "count      313354.000000          313354.0  313354.000000  \n",
       "mean            5.935533               0.0   51027.658785  \n",
       "std             3.615453               0.0   25795.335228  \n",
       "min             0.000000               0.0    1067.000000  \n",
       "25%             3.000000               0.0   30853.000000  \n",
       "50%             6.000000               0.0   49828.000000  \n",
       "75%             9.000000               0.0   71665.000000  \n",
       "max            12.000000               0.0   99998.000000  "
      ]
     },
     "execution_count": 13,
     "metadata": {},
     "output_type": "execute_result"
    }
   ],
   "source": [
    "df_cleaned.describe()"
   ]
  },
  {
   "cell_type": "markdown",
   "metadata": {},
   "source": [
    "### Прведение признаков к численному формату и отбор признаков"
   ]
  },
  {
   "cell_type": "code",
   "execution_count": 14,
   "metadata": {},
   "outputs": [],
   "source": [
    "# удалим признаки, которые не будут использоваться для обучения\n",
    "df_cleaned = df_cleaned.drop(['DateCrawled', 'DateCreated', \n",
    "                              'NumberOfPictures', 'PostalCode', \n",
    "                              'LastSeen'], axis=1)"
   ]
  },
  {
   "cell_type": "code",
   "execution_count": 15,
   "metadata": {},
   "outputs": [],
   "source": [
    "# с помощью OrdinalEncoder переведём категориальные переменные в числовые.\n",
    "for_ordinal = ['VehicleType', 'Brand', 'Model', 'FuelType', 'Gearbox', 'NotRepaired']\n",
    "ordinal_enc = OrdinalEncoder()\n",
    "df_cleaned.loc[:, for_ordinal] = ordinal_enc.fit_transform(df_cleaned.loc[:, for_ordinal])"
   ]
  },
  {
   "cell_type": "code",
   "execution_count": 16,
   "metadata": {},
   "outputs": [
    {
     "data": {
      "image/png": "[encoded data removed]",
      "text/plain": [
       "<Figure size 720x720 with 2 Axes>"
      ]
     },
     "metadata": {
      "needs_background": "light"
     },
     "output_type": "display_data"
    }
   ],
   "source": [
    "plt.figure(figsize=(10,10))\n",
    "corr = df_cleaned.corr()\n",
    "sns.heatmap(corr, annot=True)\n",
    "plt.title('Тепловая карта корреляции данных')\n",
    "plt.show()"
   ]
  },
  {
   "cell_type": "code",
   "execution_count": 17,
   "metadata": {},
   "outputs": [],
   "source": [
    "for_ohe = ['Gearbox', 'NotRepaired', 'VehicleType', 'Brand', 'Model', 'FuelType']\n",
    "\n",
    "def ohe_encode_concat(df: pd.DataFrame, features_to_encode: list):\n",
    "    \"\"\"\n",
    "    Растягивает категориальные переменные методом One-Hot-Encoding.\n",
    "    Возвращает начальный датафрейм уже с преобразованными данным.\n",
    "    \"\"\"\n",
    "    \n",
    "    dummies = pd.get_dummies(data=df, columns=features_to_encode, drop_first=True)\n",
    "    result = pd.concat([df, dummies], axis=1)\n",
    "    result = result.drop(features_to_encode, axis=1)\n",
    "    return result\n",
    "\n",
    "df_for_linear = ohe_encode_concat(df_cleaned, for_ohe)"
   ]
  },
  {
   "cell_type": "code",
   "execution_count": 18,
   "metadata": {},
   "outputs": [],
   "source": [
    "# приведём данные для обучения к типу np.array\n",
    "X_linear = df_for_linear.drop('Price', axis=1).values\n",
    "\n",
    "X_tree = df_cleaned.drop('Price', axis=1).values\n",
    "\n",
    "# таргет\n",
    "y = df_cleaned['Price'].values"
   ]
  },
  {
   "cell_type": "code",
   "execution_count": 19,
   "metadata": {},
   "outputs": [
    {
     "data": {
      "text/plain": [
       "((250683, 315), (62671, 315), (250683,), (62671,))"
      ]
     },
     "execution_count": 19,
     "metadata": {},
     "output_type": "execute_result"
    }
   ],
   "source": [
    "X_linear_train, X_linear_test, \\\n",
    "y_linear_train, y_linear_test = model_selection.train_test_split(X_linear, y, test_size=0.2, \n",
    "                                                                 random_state=42, shuffle=True)\n",
    "X_tree_train, X_tree_test, \\\n",
    "y_tree_train, y_tree_test = model_selection.train_test_split(X_tree, y, test_size=0.2, \n",
    "                                                             random_state=42, shuffle=True)\n",
    "\n",
    "X_linear_train.shape, X_linear_test.shape, y_linear_train.shape, y_linear_test.shape"
   ]
  },
  {
   "cell_type": "code",
   "execution_count": 20,
   "metadata": {},
   "outputs": [],
   "source": [
    "# удалим лишние переменные\n",
    "del df_cleaned, df_for_linear, X_linear, X_tree\n"
   ]
  },
  {
   "cell_type": "markdown",
   "metadata": {},
   "source": [
    "## Обучение моделей"
   ]
  },
  {
   "cell_type": "code",
   "execution_count": 21,
   "metadata": {},
   "outputs": [],
   "source": [
    "# RMSE\n",
    "def score_func(y_true, y_pred):\n",
    "    return np.sqrt(mean_squared_error(y_true, y_pred))\n",
    "\n",
    "rmse = make_scorer(score_func, greater_is_better=False)\n",
    "\n",
    "rand = 42\n",
    "\n",
    "# зададим разбиение выборки для кросс-валидации\n",
    "kfold = model_selection.KFold(n_splits=5, shuffle=True, random_state=rand)"
   ]
  },
  {
   "cell_type": "code",
   "execution_count": 22,
   "metadata": {},
   "outputs": [],
   "source": [
    "def add_cv_result_to_df(df: pd.DataFrame, model_name: str, cv_results):\n",
    "    df.loc[model_name, :] = [np.mean(i) for i in list(cv_results.values())]\n",
    "    return df\n",
    "\n",
    "df_res = pd.DataFrame(columns=['fit_time', 'score_time', 'test_score'])"
   ]
  },
  {
   "cell_type": "markdown",
   "metadata": {},
   "source": [
    "**Линейные модели**"
   ]
  },
  {
   "cell_type": "markdown",
   "metadata": {},
   "source": [
    "* Линейная регрессия"
   ]
  },
  {
   "cell_type": "code",
   "execution_count": 23,
   "metadata": {},
   "outputs": [
    {
     "data": {
      "text/html": [
       "<div>\n",
       "<style scoped>\n",
       "    .dataframe tbody tr th:only-of-type {\n",
       "        vertical-align: middle;\n",
       "    }\n",
       "\n",
       "    .dataframe tbody tr th {\n",
       "        vertical-align: top;\n",
       "    }\n",
       "\n",
       "    .dataframe thead th {\n",
       "        text-align: right;\n",
       "    }\n",
       "</style>\n",
       "<table border=\"1\" class=\"dataframe\">\n",
       "  <thead>\n",
       "    <tr style=\"text-align: right;\">\n",
       "      <th></th>\n",
       "      <th>fit_time</th>\n",
       "      <th>score_time</th>\n",
       "      <th>test_score</th>\n",
       "    </tr>\n",
       "  </thead>\n",
       "  <tbody>\n",
       "    <tr>\n",
       "      <td>Ridge</td>\n",
       "      <td>5.22898</td>\n",
       "      <td>0.283543</td>\n",
       "      <td>-2655.08</td>\n",
       "    </tr>\n",
       "  </tbody>\n",
       "</table>\n",
       "</div>"
      ],
      "text/plain": [
       "      fit_time score_time test_score\n",
       "Ridge  5.22898   0.283543   -2655.08"
      ]
     },
     "execution_count": 23,
     "metadata": {},
     "output_type": "execute_result"
    }
   ],
   "source": [
    "ridge = Ridge(random_state=rand)\n",
    "cv_results = model_selection.cross_validate(ridge, X_linear_train, y_linear_train, cv=4, scoring=rmse)\n",
    "del ridge\n",
    "add_cv_result_to_df(df_res, 'Ridge', cv_results)"
   ]
  },
  {
   "cell_type": "raw",
   "metadata": {},
   "source": [
    "el_net = ElasticNet(random_state=rand)\n",
    "cv_results = model_selection.cross_validate(el_net, X_linear_train, y_linear_train, cv=4, scoring=rmse)\n",
    "del el_net\n",
    "add_cv_result_to_df(df_res, 'ElasticNet', cv_results)"
   ]
  },
  {
   "cell_type": "markdown",
   "metadata": {},
   "source": [
    "**Модели деревьев**"
   ]
  },
  {
   "cell_type": "code",
   "execution_count": 24,
   "metadata": {},
   "outputs": [
    {
     "data": {
      "text/html": [
       "<div>\n",
       "<style scoped>\n",
       "    .dataframe tbody tr th:only-of-type {\n",
       "        vertical-align: middle;\n",
       "    }\n",
       "\n",
       "    .dataframe tbody tr th {\n",
       "        vertical-align: top;\n",
       "    }\n",
       "\n",
       "    .dataframe thead th {\n",
       "        text-align: right;\n",
       "    }\n",
       "</style>\n",
       "<table border=\"1\" class=\"dataframe\">\n",
       "  <thead>\n",
       "    <tr style=\"text-align: right;\">\n",
       "      <th></th>\n",
       "      <th>fit_time</th>\n",
       "      <th>score_time</th>\n",
       "      <th>test_score</th>\n",
       "    </tr>\n",
       "  </thead>\n",
       "  <tbody>\n",
       "    <tr>\n",
       "      <td>Ridge</td>\n",
       "      <td>5.22898</td>\n",
       "      <td>0.283543</td>\n",
       "      <td>-2655.08</td>\n",
       "    </tr>\n",
       "    <tr>\n",
       "      <td>Random Forest</td>\n",
       "      <td>7.56568</td>\n",
       "      <td>0.322206</td>\n",
       "      <td>-1794.37</td>\n",
       "    </tr>\n",
       "  </tbody>\n",
       "</table>\n",
       "</div>"
      ],
      "text/plain": [
       "              fit_time score_time test_score\n",
       "Ridge          5.22898   0.283543   -2655.08\n",
       "Random Forest  7.56568   0.322206   -1794.37"
      ]
     },
     "execution_count": 24,
     "metadata": {},
     "output_type": "execute_result"
    }
   ],
   "source": [
    "forest = RandomForestRegressor(random_state=rand)\n",
    "cv_results = model_selection.cross_validate(forest, X_tree_train, y_tree_train, cv=4, scoring=rmse)\n",
    "del forest\n",
    "add_cv_result_to_df(df_res, 'Random Forest', cv_results)"
   ]
  },
  {
   "cell_type": "code",
   "execution_count": 25,
   "metadata": {},
   "outputs": [
    {
     "name": "stdout",
     "output_type": "stream",
     "text": [
      "[20:25:52] WARNING: /workspace/src/objective/regression_obj.cu:152: reg:linear is now deprecated in favor of reg:squarederror.\n",
      "[20:26:04] WARNING: /workspace/src/objective/regression_obj.cu:152: reg:linear is now deprecated in favor of reg:squarederror.\n",
      "[20:26:16] WARNING: /workspace/src/objective/regression_obj.cu:152: reg:linear is now deprecated in favor of reg:squarederror.\n",
      "[20:26:28] WARNING: /workspace/src/objective/regression_obj.cu:152: reg:linear is now deprecated in favor of reg:squarederror.\n"
     ]
    },
    {
     "data": {
      "text/html": [
       "<div>\n",
       "<style scoped>\n",
       "    .dataframe tbody tr th:only-of-type {\n",
       "        vertical-align: middle;\n",
       "    }\n",
       "\n",
       "    .dataframe tbody tr th {\n",
       "        vertical-align: top;\n",
       "    }\n",
       "\n",
       "    .dataframe thead th {\n",
       "        text-align: right;\n",
       "    }\n",
       "</style>\n",
       "<table border=\"1\" class=\"dataframe\">\n",
       "  <thead>\n",
       "    <tr style=\"text-align: right;\">\n",
       "      <th></th>\n",
       "      <th>fit_time</th>\n",
       "      <th>score_time</th>\n",
       "      <th>test_score</th>\n",
       "    </tr>\n",
       "  </thead>\n",
       "  <tbody>\n",
       "    <tr>\n",
       "      <td>Ridge</td>\n",
       "      <td>5.22898</td>\n",
       "      <td>0.283543</td>\n",
       "      <td>-2655.08</td>\n",
       "    </tr>\n",
       "    <tr>\n",
       "      <td>Random Forest</td>\n",
       "      <td>7.56568</td>\n",
       "      <td>0.322206</td>\n",
       "      <td>-1794.37</td>\n",
       "    </tr>\n",
       "    <tr>\n",
       "      <td>XGBoost</td>\n",
       "      <td>12.0583</td>\n",
       "      <td>0.253773</td>\n",
       "      <td>-2020.7</td>\n",
       "    </tr>\n",
       "  </tbody>\n",
       "</table>\n",
       "</div>"
      ],
      "text/plain": [
       "              fit_time score_time test_score\n",
       "Ridge          5.22898   0.283543   -2655.08\n",
       "Random Forest  7.56568   0.322206   -1794.37\n",
       "XGBoost        12.0583   0.253773    -2020.7"
      ]
     },
     "execution_count": 25,
     "metadata": {},
     "output_type": "execute_result"
    }
   ],
   "source": [
    "xgb = XGBRegressor(random_state=rand)\n",
    "cv_results = model_selection.cross_validate(xgb, X_tree_train, y_tree_train, cv=4, scoring=rmse)\n",
    "del xgb\n",
    "add_cv_result_to_df(df_res, 'XGBoost', cv_results)"
   ]
  },
  {
   "cell_type": "code",
   "execution_count": 26,
   "metadata": {},
   "outputs": [
    {
     "data": {
      "text/html": [
       "<div>\n",
       "<style scoped>\n",
       "    .dataframe tbody tr th:only-of-type {\n",
       "        vertical-align: middle;\n",
       "    }\n",
       "\n",
       "    .dataframe tbody tr th {\n",
       "        vertical-align: top;\n",
       "    }\n",
       "\n",
       "    .dataframe thead th {\n",
       "        text-align: right;\n",
       "    }\n",
       "</style>\n",
       "<table border=\"1\" class=\"dataframe\">\n",
       "  <thead>\n",
       "    <tr style=\"text-align: right;\">\n",
       "      <th></th>\n",
       "      <th>fit_time</th>\n",
       "      <th>score_time</th>\n",
       "      <th>test_score</th>\n",
       "    </tr>\n",
       "  </thead>\n",
       "  <tbody>\n",
       "    <tr>\n",
       "      <td>Ridge</td>\n",
       "      <td>5.22898</td>\n",
       "      <td>0.283543</td>\n",
       "      <td>-2655.08</td>\n",
       "    </tr>\n",
       "    <tr>\n",
       "      <td>Random Forest</td>\n",
       "      <td>7.56568</td>\n",
       "      <td>0.322206</td>\n",
       "      <td>-1794.37</td>\n",
       "    </tr>\n",
       "    <tr>\n",
       "      <td>XGBoost</td>\n",
       "      <td>12.0583</td>\n",
       "      <td>0.253773</td>\n",
       "      <td>-2020.7</td>\n",
       "    </tr>\n",
       "    <tr>\n",
       "      <td>LGBM</td>\n",
       "      <td>2.56209</td>\n",
       "      <td>0.621101</td>\n",
       "      <td>-1808.32</td>\n",
       "    </tr>\n",
       "  </tbody>\n",
       "</table>\n",
       "</div>"
      ],
      "text/plain": [
       "              fit_time score_time test_score\n",
       "Ridge          5.22898   0.283543   -2655.08\n",
       "Random Forest  7.56568   0.322206   -1794.37\n",
       "XGBoost        12.0583   0.253773    -2020.7\n",
       "LGBM           2.56209   0.621101   -1808.32"
      ]
     },
     "execution_count": 26,
     "metadata": {},
     "output_type": "execute_result"
    }
   ],
   "source": [
    "lgbm = LGBMRegressor(random_state=rand)\n",
    "cv_results = model_selection.cross_validate(lgbm, X_tree_train, y_tree_train, cv=4, scoring=rmse)\n",
    "del lgbm\n",
    "add_cv_result_to_df(df_res, 'LGBM', cv_results)"
   ]
  },
  {
   "cell_type": "code",
   "execution_count": 27,
   "metadata": {},
   "outputs": [
    {
     "name": "stdout",
     "output_type": "stream",
     "text": [
      "0:\tlearn: 4504.8863983\ttotal: 84.5ms\tremaining: 1m 24s\n",
      "200:\tlearn: 1982.9210316\ttotal: 28.2s\tremaining: 1m 51s\n",
      "400:\tlearn: 1875.0312793\ttotal: 56.5s\tremaining: 1m 24s\n",
      "600:\tlearn: 1821.1210184\ttotal: 1m 24s\tremaining: 56.2s\n",
      "800:\tlearn: 1785.8064766\ttotal: 1m 52s\tremaining: 28s\n",
      "999:\tlearn: 1760.7066626\ttotal: 2m 21s\tremaining: 0us\n",
      "0:\tlearn: 4501.9720764\ttotal: 94.3ms\tremaining: 1m 34s\n",
      "200:\tlearn: 1988.4288983\ttotal: 28.4s\tremaining: 1m 52s\n",
      "400:\tlearn: 1880.6515942\ttotal: 56.1s\tremaining: 1m 23s\n",
      "600:\tlearn: 1828.0035618\ttotal: 1m 24s\tremaining: 56.1s\n",
      "800:\tlearn: 1792.3356612\ttotal: 1m 52s\tremaining: 28s\n",
      "999:\tlearn: 1766.6301487\ttotal: 2m 20s\tremaining: 0us\n",
      "0:\tlearn: 4519.3297518\ttotal: 28.9ms\tremaining: 28.8s\n",
      "200:\tlearn: 1998.1953807\ttotal: 28.5s\tremaining: 1m 53s\n",
      "400:\tlearn: 1889.2967607\ttotal: 56.5s\tremaining: 1m 24s\n",
      "600:\tlearn: 1834.8774353\ttotal: 1m 25s\tremaining: 56.7s\n",
      "800:\tlearn: 1799.1042423\ttotal: 1m 53s\tremaining: 28.2s\n",
      "999:\tlearn: 1772.7776220\ttotal: 2m 21s\tremaining: 0us\n",
      "0:\tlearn: 4502.8954422\ttotal: 91.8ms\tremaining: 1m 31s\n",
      "200:\tlearn: 1987.7566765\ttotal: 28.8s\tremaining: 1m 54s\n",
      "400:\tlearn: 1881.2839571\ttotal: 57.4s\tremaining: 1m 25s\n",
      "600:\tlearn: 1827.2583811\ttotal: 1m 25s\tremaining: 57s\n",
      "800:\tlearn: 1789.2449875\ttotal: 1m 54s\tremaining: 28.4s\n",
      "999:\tlearn: 1762.0179600\ttotal: 2m 22s\tremaining: 0us\n"
     ]
    },
    {
     "data": {
      "text/html": [
       "<div>\n",
       "<style scoped>\n",
       "    .dataframe tbody tr th:only-of-type {\n",
       "        vertical-align: middle;\n",
       "    }\n",
       "\n",
       "    .dataframe tbody tr th {\n",
       "        vertical-align: top;\n",
       "    }\n",
       "\n",
       "    .dataframe thead th {\n",
       "        text-align: right;\n",
       "    }\n",
       "</style>\n",
       "<table border=\"1\" class=\"dataframe\">\n",
       "  <thead>\n",
       "    <tr style=\"text-align: right;\">\n",
       "      <th></th>\n",
       "      <th>fit_time</th>\n",
       "      <th>score_time</th>\n",
       "      <th>test_score</th>\n",
       "    </tr>\n",
       "  </thead>\n",
       "  <tbody>\n",
       "    <tr>\n",
       "      <td>Ridge</td>\n",
       "      <td>5.22898</td>\n",
       "      <td>0.283543</td>\n",
       "      <td>-2655.08</td>\n",
       "    </tr>\n",
       "    <tr>\n",
       "      <td>Random Forest</td>\n",
       "      <td>7.56568</td>\n",
       "      <td>0.322206</td>\n",
       "      <td>-1794.37</td>\n",
       "    </tr>\n",
       "    <tr>\n",
       "      <td>XGBoost</td>\n",
       "      <td>12.0583</td>\n",
       "      <td>0.253773</td>\n",
       "      <td>-2020.7</td>\n",
       "    </tr>\n",
       "    <tr>\n",
       "      <td>LGBM</td>\n",
       "      <td>2.56209</td>\n",
       "      <td>0.621101</td>\n",
       "      <td>-1808.32</td>\n",
       "    </tr>\n",
       "    <tr>\n",
       "      <td>CatBoost</td>\n",
       "      <td>144.47</td>\n",
       "      <td>0.296054</td>\n",
       "      <td>-1799.42</td>\n",
       "    </tr>\n",
       "  </tbody>\n",
       "</table>\n",
       "</div>"
      ],
      "text/plain": [
       "              fit_time score_time test_score\n",
       "Ridge          5.22898   0.283543   -2655.08\n",
       "Random Forest  7.56568   0.322206   -1794.37\n",
       "XGBoost        12.0583   0.253773    -2020.7\n",
       "LGBM           2.56209   0.621101   -1808.32\n",
       "CatBoost        144.47   0.296054   -1799.42"
      ]
     },
     "execution_count": 27,
     "metadata": {},
     "output_type": "execute_result"
    }
   ],
   "source": [
    "cat = CatBoostRegressor(verbose=200, random_state=rand)\n",
    "cv_results = model_selection.cross_validate(cat, X_tree_train, y_tree_train, cv=4, scoring=rmse)\n",
    "del cat\n",
    "add_cv_result_to_df(df_res, 'CatBoost', cv_results)"
   ]
  },
  {
   "cell_type": "code",
   "execution_count": 28,
   "metadata": {},
   "outputs": [
    {
     "data": {
      "text/html": [
       "<div>\n",
       "<style scoped>\n",
       "    .dataframe tbody tr th:only-of-type {\n",
       "        vertical-align: middle;\n",
       "    }\n",
       "\n",
       "    .dataframe tbody tr th {\n",
       "        vertical-align: top;\n",
       "    }\n",
       "\n",
       "    .dataframe thead th {\n",
       "        text-align: right;\n",
       "    }\n",
       "</style>\n",
       "<table border=\"1\" class=\"dataframe\">\n",
       "  <thead>\n",
       "    <tr style=\"text-align: right;\">\n",
       "      <th></th>\n",
       "      <th>fit_time</th>\n",
       "      <th>score_time</th>\n",
       "      <th>test_score</th>\n",
       "    </tr>\n",
       "  </thead>\n",
       "  <tbody>\n",
       "    <tr>\n",
       "      <td>Ridge</td>\n",
       "      <td>5.22898</td>\n",
       "      <td>0.283543</td>\n",
       "      <td>2655.08</td>\n",
       "    </tr>\n",
       "    <tr>\n",
       "      <td>Random Forest</td>\n",
       "      <td>7.56568</td>\n",
       "      <td>0.322206</td>\n",
       "      <td>1794.37</td>\n",
       "    </tr>\n",
       "    <tr>\n",
       "      <td>XGBoost</td>\n",
       "      <td>12.0583</td>\n",
       "      <td>0.253773</td>\n",
       "      <td>2020.7</td>\n",
       "    </tr>\n",
       "    <tr>\n",
       "      <td>LGBM</td>\n",
       "      <td>2.56209</td>\n",
       "      <td>0.621101</td>\n",
       "      <td>1808.32</td>\n",
       "    </tr>\n",
       "    <tr>\n",
       "      <td>CatBoost</td>\n",
       "      <td>144.47</td>\n",
       "      <td>0.296054</td>\n",
       "      <td>1799.42</td>\n",
       "    </tr>\n",
       "  </tbody>\n",
       "</table>\n",
       "</div>"
      ],
      "text/plain": [
       "              fit_time score_time test_score\n",
       "Ridge          5.22898   0.283543    2655.08\n",
       "Random Forest  7.56568   0.322206    1794.37\n",
       "XGBoost        12.0583   0.253773     2020.7\n",
       "LGBM           2.56209   0.621101    1808.32\n",
       "CatBoost        144.47   0.296054    1799.42"
      ]
     },
     "execution_count": 28,
     "metadata": {},
     "output_type": "execute_result"
    }
   ],
   "source": [
    "df_res['test_score'] = abs(df_res['test_score'])\n",
    "df_res"
   ]
  },
  {
   "cell_type": "code",
   "execution_count": 29,
   "metadata": {
    "scrolled": true
   },
   "outputs": [
    {
     "data": {
      "image/png": "[encoded data removed]",
      "text/plain": [
       "<Figure size 576x360 with 1 Axes>"
      ]
     },
     "metadata": {
      "needs_background": "light"
     },
     "output_type": "display_data"
    }
   ],
   "source": [
    "plt.figure(figsize=(8,5))\n",
    "sns.scatterplot(x=df_res['test_score'], y=df_res['fit_time'], \n",
    "                hue=df_res.index, s=400, alpha=0.6)\n",
    "plt.title('График отоношения скорости обучения к RMSE модели')\n",
    "plt.xlabel('RMSE')\n",
    "plt.ylabel('Время обучения, сек')\n",
    "plt.show()"
   ]
  },
  {
   "cell_type": "markdown",
   "metadata": {},
   "source": [
    "## Анализ моделей"
   ]
  },
  {
   "cell_type": "markdown",
   "metadata": {},
   "source": [
    "Лучший результат показала модель `LightGBM`, поэтому далее будем использовать её. Настроим гиперпараметры и посмотрим, какого качества сможем добиться."
   ]
  },
  {
   "cell_type": "code",
   "execution_count": 30,
   "metadata": {},
   "outputs": [],
   "source": [
    "params = dict(n_estimatores=range(1000, 1500, 100), \n",
    "              learning_rate=[0.07, 0.2, 0.4])\n",
    "lgbm = LGBMRegressor()\n",
    "\n",
    "rand_search_cv = model_selection.RandomizedSearchCV(lgbm, params, \n",
    "                                                    scoring=rmse, \n",
    "                                                    random_state=rand)"
   ]
  },
  {
   "cell_type": "code",
   "execution_count": 31,
   "metadata": {},
   "outputs": [],
   "source": [
    "search = rand_search_cv.fit(X_tree_train, y_tree_train)"
   ]
  },
  {
   "cell_type": "code",
   "execution_count": 32,
   "metadata": {},
   "outputs": [
    {
     "name": "stdout",
     "output_type": "stream",
     "text": [
      "{'n_estimatores': 1100, 'learning_rate': 0.4}\n",
      "-1753.4742907354644\n"
     ]
    }
   ],
   "source": [
    "print(search.best_params_)\n",
    "print(search.best_score_)"
   ]
  },
  {
   "cell_type": "code",
   "execution_count": 33,
   "metadata": {},
   "outputs": [
    {
     "name": "stdout",
     "output_type": "stream",
     "text": [
      "Финальный оценка модели на тестовой выборке: 1660.49\n"
     ]
    }
   ],
   "source": [
    "lgbm = LGBMRegressor(n_estimators=1100, learning_rate=0.4)\n",
    "lgbm.fit(X_tree_train, y_tree_train)\n",
    "predictions = lgbm.predict(X_tree_test)\n",
    "score = np.sqrt(mean_squared_error(y_tree_test, predictions))\n",
    "print('Финальный оценка модели на тестовой выборке: {:.2f}'.format(score))"
   ]
  },
  {
   "cell_type": "code",
   "execution_count": 34,
   "metadata": {},
   "outputs": [
    {
     "data": {
      "image/png": "[encoded data removed]",
      "text/plain": [
       "<Figure size 648x360 with 1 Axes>"
      ]
     },
     "metadata": {
      "needs_background": "light"
     },
     "output_type": "display_data"
    }
   ],
   "source": [
    "from lightgbm import plot_importance\n",
    "\n",
    "plot_importance(lgbm, figsize=(9, 5), grid=False)\n",
    "plt.title('График важности признаков')\n",
    "plt.show()"
   ]
  },
  {
   "cell_type": "markdown",
   "metadata": {},
   "source": [
    "### Вывод:\n",
    "\n",
    "* Лучший результат по скорости работы и итоговой метрике показала модель __LGBMRegressor__. Значение **RMSE** = 1660.49\n",
    "\n",
    "* Наиболее важными факторами для итоговой модели являются **мощность двигателя** и **год регистрации авто**."
   ]
  },
  {
   "cell_type": "code",
   "execution_count": null,
   "metadata": {},
   "outputs": [],
   "source": []
  }
 ],
 "metadata": {
  "ExecuteTimeLog": [
   {
    "duration": 2471,
    "start_time": "2021-08-09T19:15:53.697Z"
   },
   {
    "duration": 1077,
    "start_time": "2021-08-09T19:15:56.171Z"
   },
   {
    "duration": 39,
    "start_time": "2021-08-09T19:15:57.251Z"
   },
   {
    "duration": 1055,
    "start_time": "2021-08-09T19:15:57.294Z"
   },
   {
    "duration": 135,
    "start_time": "2021-08-09T19:15:58.351Z"
   },
   {
    "duration": 745,
    "start_time": "2021-08-09T19:15:58.488Z"
   },
   {
    "duration": 345,
    "start_time": "2021-08-09T19:15:59.236Z"
   },
   {
    "duration": 4071,
    "start_time": "2021-08-09T19:15:59.585Z"
   },
   {
    "duration": 7,
    "start_time": "2021-08-09T19:16:03.659Z"
   },
   {
    "duration": 4652,
    "start_time": "2021-08-09T19:16:03.669Z"
   },
   {
    "duration": 3500,
    "start_time": "2021-08-09T19:16:08.325Z"
   },
   {
    "duration": 2868,
    "start_time": "2021-08-09T19:16:11.828Z"
   },
   {
    "duration": 188,
    "start_time": "2021-08-09T19:16:14.699Z"
   },
   {
    "duration": 92,
    "start_time": "2021-08-09T19:16:14.889Z"
   },
   {
    "duration": 1143,
    "start_time": "2021-08-09T19:16:14.984Z"
   },
   {
    "duration": 1339,
    "start_time": "2021-08-09T19:16:16.129Z"
   },
   {
    "duration": 970,
    "start_time": "2021-08-09T19:16:17.470Z"
   },
   {
    "duration": 414,
    "start_time": "2021-08-09T19:16:18.442Z"
   },
   {
    "duration": 1357,
    "start_time": "2021-08-09T19:16:18.858Z"
   },
   {
    "duration": 6,
    "start_time": "2021-08-09T19:16:20.218Z"
   },
   {
    "duration": 12,
    "start_time": "2021-08-09T19:16:20.226Z"
   },
   {
    "duration": 21,
    "start_time": "2021-08-09T19:16:20.240Z"
   },
   {
    "duration": 22593,
    "start_time": "2021-08-09T19:16:20.266Z"
   },
   {
    "duration": 31521,
    "start_time": "2021-08-09T19:16:42.862Z"
   },
   {
    "duration": 55012,
    "start_time": "2021-08-09T19:17:14.386Z"
   },
   {
    "duration": 11842,
    "start_time": "2021-08-09T19:18:09.401Z"
   },
   {
    "duration": 587230,
    "start_time": "2021-08-09T19:18:21.245Z"
   },
   {
    "duration": 11,
    "start_time": "2021-08-09T19:28:08.478Z"
   },
   {
    "duration": 470,
    "start_time": "2021-08-09T19:28:08.556Z"
   },
   {
    "duration": 6,
    "start_time": "2021-08-09T19:28:09.029Z"
   },
   {
    "duration": 80842,
    "start_time": "2021-08-09T19:28:09.037Z"
   },
   {
    "duration": 5,
    "start_time": "2021-08-09T19:29:29.881Z"
   },
   {
    "duration": 24462,
    "start_time": "2021-08-09T19:29:29.888Z"
   },
   {
    "duration": 371,
    "start_time": "2021-08-09T19:29:54.356Z"
   },
   {
    "duration": 524,
    "start_time": "2021-08-09T20:03:15.922Z"
   },
   {
    "duration": 9,
    "start_time": "2021-08-09T20:03:24.326Z"
   },
   {
    "duration": 1248,
    "start_time": "2021-08-09T20:03:26.388Z"
   },
   {
    "duration": 21,
    "start_time": "2021-08-09T20:03:31.303Z"
   },
   {
    "duration": 874,
    "start_time": "2021-08-09T20:03:32.573Z"
   },
   {
    "duration": 142,
    "start_time": "2021-08-09T20:03:33.456Z"
   },
   {
    "duration": 570,
    "start_time": "2021-08-09T20:03:36.394Z"
   },
   {
    "duration": 356,
    "start_time": "2021-08-09T20:03:37.244Z"
   },
   {
    "duration": 2004,
    "start_time": "2021-08-09T20:03:40.253Z"
   },
   {
    "duration": 1409,
    "start_time": "2021-08-09T20:03:49.283Z"
   },
   {
    "duration": 1327,
    "start_time": "2021-08-09T20:04:13.130Z"
   },
   {
    "duration": 1363,
    "start_time": "2021-08-09T20:04:22.324Z"
   },
   {
    "duration": 1473,
    "start_time": "2021-08-09T20:04:51.567Z"
   },
   {
    "duration": 1421,
    "start_time": "2021-08-09T20:05:26.202Z"
   },
   {
    "duration": 1754,
    "start_time": "2021-08-09T20:06:04.884Z"
   },
   {
    "duration": 1411,
    "start_time": "2021-08-09T20:06:24.630Z"
   },
   {
    "duration": 1368,
    "start_time": "2021-08-09T20:06:37.742Z"
   },
   {
    "duration": 1371,
    "start_time": "2021-08-09T20:06:49.252Z"
   },
   {
    "duration": 335,
    "start_time": "2021-08-09T20:08:14.897Z"
   },
   {
    "duration": 1675,
    "start_time": "2021-08-09T20:08:21.862Z"
   },
   {
    "duration": 1636,
    "start_time": "2021-08-09T20:08:49.260Z"
   },
   {
    "duration": 1366,
    "start_time": "2021-08-09T20:21:51.822Z"
   },
   {
    "duration": 1344,
    "start_time": "2021-08-09T20:22:20.080Z"
   },
   {
    "duration": 1571,
    "start_time": "2021-08-09T20:22:27.634Z"
   },
   {
    "duration": 991,
    "start_time": "2021-08-09T20:22:37.809Z"
   },
   {
    "duration": 20,
    "start_time": "2021-08-09T20:22:38.984Z"
   },
   {
    "duration": 930,
    "start_time": "2021-08-09T20:22:39.395Z"
   },
   {
    "duration": 139,
    "start_time": "2021-08-09T20:22:40.329Z"
   },
   {
    "duration": 630,
    "start_time": "2021-08-09T20:22:41.466Z"
   },
   {
    "duration": 367,
    "start_time": "2021-08-09T20:22:42.310Z"
   },
   {
    "duration": 2117,
    "start_time": "2021-08-09T20:22:44.493Z"
   },
   {
    "duration": 8,
    "start_time": "2021-08-09T20:22:47.315Z"
   },
   {
    "duration": 1747,
    "start_time": "2021-08-09T20:22:47.898Z"
   },
   {
    "duration": 1385,
    "start_time": "2021-08-09T20:22:51.231Z"
   },
   {
    "duration": 1597,
    "start_time": "2021-08-09T20:24:03.297Z"
   },
   {
    "duration": 1988,
    "start_time": "2021-08-09T20:24:41.339Z"
   },
   {
    "duration": 1086,
    "start_time": "2021-08-09T20:24:43.329Z"
   },
   {
    "duration": 25,
    "start_time": "2021-08-09T20:24:44.418Z"
   },
   {
    "duration": 906,
    "start_time": "2021-08-09T20:24:44.456Z"
   },
   {
    "duration": 125,
    "start_time": "2021-08-09T20:24:45.365Z"
   },
   {
    "duration": 646,
    "start_time": "2021-08-09T20:24:45.492Z"
   },
   {
    "duration": 368,
    "start_time": "2021-08-09T20:24:46.141Z"
   },
   {
    "duration": 1647,
    "start_time": "2021-08-09T20:24:46.514Z"
   },
   {
    "duration": 6,
    "start_time": "2021-08-09T20:24:48.164Z"
   },
   {
    "duration": 1636,
    "start_time": "2021-08-09T20:24:48.172Z"
   },
   {
    "duration": 1429,
    "start_time": "2021-08-09T20:24:49.810Z"
   },
   {
    "duration": 1544,
    "start_time": "2021-08-09T20:24:51.242Z"
   },
   {
    "duration": 111,
    "start_time": "2021-08-09T20:24:52.788Z"
   },
   {
    "duration": 64,
    "start_time": "2021-08-09T20:24:52.901Z"
   },
   {
    "duration": 1121,
    "start_time": "2021-08-09T20:24:52.967Z"
   },
   {
    "duration": 1460,
    "start_time": "2021-08-09T20:24:54.090Z"
   },
   {
    "duration": 1057,
    "start_time": "2021-08-09T20:24:55.556Z"
   },
   {
    "duration": 406,
    "start_time": "2021-08-09T20:24:56.616Z"
   },
   {
    "duration": 1352,
    "start_time": "2021-08-09T20:24:57.025Z"
   },
   {
    "duration": 7,
    "start_time": "2021-08-09T20:24:58.379Z"
   },
   {
    "duration": 17,
    "start_time": "2021-08-09T20:24:58.389Z"
   },
   {
    "duration": 14,
    "start_time": "2021-08-09T20:24:58.409Z"
   },
   {
    "duration": 22230,
    "start_time": "2021-08-09T20:24:58.428Z"
   },
   {
    "duration": 31595,
    "start_time": "2021-08-09T20:25:20.661Z"
   },
   {
    "duration": 49271,
    "start_time": "2021-08-09T20:25:52.258Z"
   },
   {
    "duration": 12757,
    "start_time": "2021-08-09T20:26:41.531Z"
   },
   {
    "duration": 579085,
    "start_time": "2021-08-09T20:26:54.291Z"
   },
   {
    "duration": 12,
    "start_time": "2021-08-09T20:36:33.379Z"
   },
   {
    "duration": 547,
    "start_time": "2021-08-09T20:36:33.394Z"
   },
   {
    "duration": 11,
    "start_time": "2021-08-09T20:36:33.945Z"
   },
   {
    "duration": 76011,
    "start_time": "2021-08-09T20:36:33.959Z"
   },
   {
    "duration": 4,
    "start_time": "2021-08-09T20:37:49.972Z"
   },
   {
    "duration": 19168,
    "start_time": "2021-08-09T20:37:49.978Z"
   },
   {
    "duration": 347,
    "start_time": "2021-08-09T20:38:09.156Z"
   }
  ],
  "kernelspec": {
   "display_name": "Python 3",
   "language": "python",
   "name": "python3"
  },
  "language_info": {
   "codemirror_mode": {
    "name": "ipython",
    "version": 3
   },
   "file_extension": ".py",
   "mimetype": "text/x-python",
   "name": "python",
   "nbconvert_exporter": "python",
   "pygments_lexer": "ipython3",
   "version": "3.7.6"
  },
  "toc": {
   "base_numbering": 1,
   "nav_menu": {},
   "number_sections": true,
   "sideBar": true,
   "skip_h1_title": true,
   "title_cell": "Table of Contents",
   "title_sidebar": "Contents",
   "toc_cell": false,
   "toc_position": {},
   "toc_section_display": true,
   "toc_window_display": false
  }
 },
 "nbformat": 4,
 "nbformat_minor": 2
}
